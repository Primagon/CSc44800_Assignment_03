{
 "cells": [
  {
   "cell_type": "markdown",
   "metadata": {},
   "source": [
    "[![Open In Colab](https://colab.research.google.com/assets/colab-badge.svg)](https://colab.research.google.com/github/Primagon/CSc44800_Assignment_03/blob/main/CSc44800_Assignment3.ipynb)"
   ]
  },
  {
   "cell_type": "markdown",
   "metadata": {},
   "source": [
    "## Part 1. Loading the dataset"
   ]
  },
  {
   "cell_type": "code",
   "execution_count": 39,
   "metadata": {},
   "outputs": [
    {
     "data": {
      "text/html": [
       "<div>\n",
       "<style scoped>\n",
       "    .dataframe tbody tr th:only-of-type {\n",
       "        vertical-align: middle;\n",
       "    }\n",
       "\n",
       "    .dataframe tbody tr th {\n",
       "        vertical-align: top;\n",
       "    }\n",
       "\n",
       "    .dataframe thead th {\n",
       "        text-align: right;\n",
       "    }\n",
       "</style>\n",
       "<table border=\"1\" class=\"dataframe\">\n",
       "  <thead>\n",
       "    <tr style=\"text-align: right;\">\n",
       "      <th></th>\n",
       "      <th>Temperature °C</th>\n",
       "      <th>Mols KCL</th>\n",
       "      <th>Size nm^3</th>\n",
       "    </tr>\n",
       "  </thead>\n",
       "  <tbody>\n",
       "    <tr>\n",
       "      <th>0</th>\n",
       "      <td>469</td>\n",
       "      <td>647</td>\n",
       "      <td>6.244743e+05</td>\n",
       "    </tr>\n",
       "    <tr>\n",
       "      <th>1</th>\n",
       "      <td>403</td>\n",
       "      <td>694</td>\n",
       "      <td>5.779610e+05</td>\n",
       "    </tr>\n",
       "    <tr>\n",
       "      <th>2</th>\n",
       "      <td>302</td>\n",
       "      <td>975</td>\n",
       "      <td>6.196847e+05</td>\n",
       "    </tr>\n",
       "    <tr>\n",
       "      <th>3</th>\n",
       "      <td>779</td>\n",
       "      <td>916</td>\n",
       "      <td>1.460449e+06</td>\n",
       "    </tr>\n",
       "    <tr>\n",
       "      <th>4</th>\n",
       "      <td>901</td>\n",
       "      <td>18</td>\n",
       "      <td>4.325726e+04</td>\n",
       "    </tr>\n",
       "    <tr>\n",
       "      <th>5</th>\n",
       "      <td>545</td>\n",
       "      <td>637</td>\n",
       "      <td>7.124634e+05</td>\n",
       "    </tr>\n",
       "    <tr>\n",
       "      <th>6</th>\n",
       "      <td>660</td>\n",
       "      <td>519</td>\n",
       "      <td>7.006960e+05</td>\n",
       "    </tr>\n",
       "    <tr>\n",
       "      <th>7</th>\n",
       "      <td>143</td>\n",
       "      <td>869</td>\n",
       "      <td>2.718260e+05</td>\n",
       "    </tr>\n",
       "    <tr>\n",
       "      <th>8</th>\n",
       "      <td>89</td>\n",
       "      <td>461</td>\n",
       "      <td>8.919803e+04</td>\n",
       "    </tr>\n",
       "    <tr>\n",
       "      <th>9</th>\n",
       "      <td>294</td>\n",
       "      <td>776</td>\n",
       "      <td>4.770210e+05</td>\n",
       "    </tr>\n",
       "    <tr>\n",
       "      <th>10</th>\n",
       "      <td>991</td>\n",
       "      <td>117</td>\n",
       "      <td>2.441771e+05</td>\n",
       "    </tr>\n",
       "    <tr>\n",
       "      <th>11</th>\n",
       "      <td>307</td>\n",
       "      <td>781</td>\n",
       "      <td>5.006455e+05</td>\n",
       "    </tr>\n",
       "    <tr>\n",
       "      <th>12</th>\n",
       "      <td>206</td>\n",
       "      <td>70</td>\n",
       "      <td>3.145200e+04</td>\n",
       "    </tr>\n",
       "    <tr>\n",
       "      <th>13</th>\n",
       "      <td>437</td>\n",
       "      <td>599</td>\n",
       "      <td>5.390215e+05</td>\n",
       "    </tr>\n",
       "    <tr>\n",
       "      <th>14</th>\n",
       "      <td>566</td>\n",
       "      <td>75</td>\n",
       "      <td>9.185271e+04</td>\n",
       "    </tr>\n",
       "  </tbody>\n",
       "</table>\n",
       "</div>"
      ],
      "text/plain": [
       "    Temperature °C  Mols KCL     Size nm^3\n",
       "0              469       647  6.244743e+05\n",
       "1              403       694  5.779610e+05\n",
       "2              302       975  6.196847e+05\n",
       "3              779       916  1.460449e+06\n",
       "4              901        18  4.325726e+04\n",
       "5              545       637  7.124634e+05\n",
       "6              660       519  7.006960e+05\n",
       "7              143       869  2.718260e+05\n",
       "8               89       461  8.919803e+04\n",
       "9              294       776  4.770210e+05\n",
       "10             991       117  2.441771e+05\n",
       "11             307       781  5.006455e+05\n",
       "12             206        70  3.145200e+04\n",
       "13             437       599  5.390215e+05\n",
       "14             566        75  9.185271e+04"
      ]
     },
     "execution_count": 39,
     "metadata": {},
     "output_type": "execute_result"
    }
   ],
   "source": [
    "# Using pandas load the dataset (load remotely, not locally)\n",
    "# Output the first 15 rows of the data\n",
    "# Display a summary of the table information (number of datapoints, etc.)\n",
    "import numpy as np\n",
    "import pandas as pd\n",
    "\n",
    "slime = pd.read_csv(\"https://raw.githubusercontent.com/profmcnich/example_notebook/main/science_data_large.csv\")\n",
    "slime.head(15)"
   ]
  },
  {
   "cell_type": "code",
   "execution_count": 40,
   "metadata": {},
   "outputs": [
    {
     "data": {
      "text/html": [
       "<div>\n",
       "<style scoped>\n",
       "    .dataframe tbody tr th:only-of-type {\n",
       "        vertical-align: middle;\n",
       "    }\n",
       "\n",
       "    .dataframe tbody tr th {\n",
       "        vertical-align: top;\n",
       "    }\n",
       "\n",
       "    .dataframe thead th {\n",
       "        text-align: right;\n",
       "    }\n",
       "</style>\n",
       "<table border=\"1\" class=\"dataframe\">\n",
       "  <thead>\n",
       "    <tr style=\"text-align: right;\">\n",
       "      <th></th>\n",
       "      <th>Temperature °C</th>\n",
       "      <th>Mols KCL</th>\n",
       "      <th>Size nm^3</th>\n",
       "    </tr>\n",
       "  </thead>\n",
       "  <tbody>\n",
       "    <tr>\n",
       "      <th>0</th>\n",
       "      <td>469</td>\n",
       "      <td>647</td>\n",
       "      <td>6.244743e+05</td>\n",
       "    </tr>\n",
       "    <tr>\n",
       "      <th>1</th>\n",
       "      <td>403</td>\n",
       "      <td>694</td>\n",
       "      <td>5.779610e+05</td>\n",
       "    </tr>\n",
       "    <tr>\n",
       "      <th>2</th>\n",
       "      <td>302</td>\n",
       "      <td>975</td>\n",
       "      <td>6.196847e+05</td>\n",
       "    </tr>\n",
       "    <tr>\n",
       "      <th>3</th>\n",
       "      <td>779</td>\n",
       "      <td>916</td>\n",
       "      <td>1.460449e+06</td>\n",
       "    </tr>\n",
       "    <tr>\n",
       "      <th>4</th>\n",
       "      <td>901</td>\n",
       "      <td>18</td>\n",
       "      <td>4.325726e+04</td>\n",
       "    </tr>\n",
       "    <tr>\n",
       "      <th>...</th>\n",
       "      <td>...</td>\n",
       "      <td>...</td>\n",
       "      <td>...</td>\n",
       "    </tr>\n",
       "    <tr>\n",
       "      <th>995</th>\n",
       "      <td>894</td>\n",
       "      <td>847</td>\n",
       "      <td>1.545661e+06</td>\n",
       "    </tr>\n",
       "    <tr>\n",
       "      <th>996</th>\n",
       "      <td>327</td>\n",
       "      <td>982</td>\n",
       "      <td>6.737041e+05</td>\n",
       "    </tr>\n",
       "    <tr>\n",
       "      <th>997</th>\n",
       "      <td>791</td>\n",
       "      <td>213</td>\n",
       "      <td>3.477543e+05</td>\n",
       "    </tr>\n",
       "    <tr>\n",
       "      <th>998</th>\n",
       "      <td>769</td>\n",
       "      <td>553</td>\n",
       "      <td>8.684794e+05</td>\n",
       "    </tr>\n",
       "    <tr>\n",
       "      <th>999</th>\n",
       "      <td>919</td>\n",
       "      <td>452</td>\n",
       "      <td>8.476413e+05</td>\n",
       "    </tr>\n",
       "  </tbody>\n",
       "</table>\n",
       "<p>1000 rows × 3 columns</p>\n",
       "</div>"
      ],
      "text/plain": [
       "     Temperature °C  Mols KCL     Size nm^3\n",
       "0               469       647  6.244743e+05\n",
       "1               403       694  5.779610e+05\n",
       "2               302       975  6.196847e+05\n",
       "3               779       916  1.460449e+06\n",
       "4               901        18  4.325726e+04\n",
       "..              ...       ...           ...\n",
       "995             894       847  1.545661e+06\n",
       "996             327       982  6.737041e+05\n",
       "997             791       213  3.477543e+05\n",
       "998             769       553  8.684794e+05\n",
       "999             919       452  8.476413e+05\n",
       "\n",
       "[1000 rows x 3 columns]"
      ]
     },
     "execution_count": 40,
     "metadata": {},
     "output_type": "execute_result"
    }
   ],
   "source": [
    "slime"
   ]
  },
  {
   "cell_type": "code",
   "execution_count": 41,
   "metadata": {},
   "outputs": [
    {
     "name": "stdout",
     "output_type": "stream",
     "text": [
      "<class 'pandas.core.frame.DataFrame'>\n",
      "RangeIndex: 1000 entries, 0 to 999\n",
      "Data columns (total 3 columns):\n",
      " #   Column          Non-Null Count  Dtype  \n",
      "---  ------          --------------  -----  \n",
      " 0   Temperature °C  1000 non-null   int64  \n",
      " 1   Mols KCL        1000 non-null   int64  \n",
      " 2   Size nm^3       1000 non-null   float64\n",
      "dtypes: float64(1), int64(2)\n",
      "memory usage: 23.6 KB\n"
     ]
    }
   ],
   "source": [
    "slime.info()"
   ]
  },
  {
   "cell_type": "markdown",
   "metadata": {},
   "source": [
    "## Part 2. Splitting the dataset"
   ]
  },
  {
   "cell_type": "code",
   "execution_count": 42,
   "metadata": {},
   "outputs": [
    {
     "data": {
      "text/html": [
       "<div>\n",
       "<style scoped>\n",
       "    .dataframe tbody tr th:only-of-type {\n",
       "        vertical-align: middle;\n",
       "    }\n",
       "\n",
       "    .dataframe tbody tr th {\n",
       "        vertical-align: top;\n",
       "    }\n",
       "\n",
       "    .dataframe thead th {\n",
       "        text-align: right;\n",
       "    }\n",
       "</style>\n",
       "<table border=\"1\" class=\"dataframe\">\n",
       "  <thead>\n",
       "    <tr style=\"text-align: right;\">\n",
       "      <th></th>\n",
       "      <th>Temperature °C</th>\n",
       "      <th>Mols KCL</th>\n",
       "    </tr>\n",
       "  </thead>\n",
       "  <tbody>\n",
       "    <tr>\n",
       "      <th>0</th>\n",
       "      <td>469</td>\n",
       "      <td>647</td>\n",
       "    </tr>\n",
       "    <tr>\n",
       "      <th>1</th>\n",
       "      <td>403</td>\n",
       "      <td>694</td>\n",
       "    </tr>\n",
       "    <tr>\n",
       "      <th>2</th>\n",
       "      <td>302</td>\n",
       "      <td>975</td>\n",
       "    </tr>\n",
       "    <tr>\n",
       "      <th>3</th>\n",
       "      <td>779</td>\n",
       "      <td>916</td>\n",
       "    </tr>\n",
       "    <tr>\n",
       "      <th>4</th>\n",
       "      <td>901</td>\n",
       "      <td>18</td>\n",
       "    </tr>\n",
       "    <tr>\n",
       "      <th>...</th>\n",
       "      <td>...</td>\n",
       "      <td>...</td>\n",
       "    </tr>\n",
       "    <tr>\n",
       "      <th>995</th>\n",
       "      <td>894</td>\n",
       "      <td>847</td>\n",
       "    </tr>\n",
       "    <tr>\n",
       "      <th>996</th>\n",
       "      <td>327</td>\n",
       "      <td>982</td>\n",
       "    </tr>\n",
       "    <tr>\n",
       "      <th>997</th>\n",
       "      <td>791</td>\n",
       "      <td>213</td>\n",
       "    </tr>\n",
       "    <tr>\n",
       "      <th>998</th>\n",
       "      <td>769</td>\n",
       "      <td>553</td>\n",
       "    </tr>\n",
       "    <tr>\n",
       "      <th>999</th>\n",
       "      <td>919</td>\n",
       "      <td>452</td>\n",
       "    </tr>\n",
       "  </tbody>\n",
       "</table>\n",
       "<p>1000 rows × 2 columns</p>\n",
       "</div>"
      ],
      "text/plain": [
       "     Temperature °C  Mols KCL\n",
       "0               469       647\n",
       "1               403       694\n",
       "2               302       975\n",
       "3               779       916\n",
       "4               901        18\n",
       "..              ...       ...\n",
       "995             894       847\n",
       "996             327       982\n",
       "997             791       213\n",
       "998             769       553\n",
       "999             919       452\n",
       "\n",
       "[1000 rows x 2 columns]"
      ]
     },
     "execution_count": 42,
     "metadata": {},
     "output_type": "execute_result"
    }
   ],
   "source": [
    "# Take the pandas dataset and split it into our features (X) and label (y)\n",
    "\n",
    "# Use sklearn to split the features and labels into a training/test set. (90% train, 10% test)\n",
    "\n",
    "features = slime[[\"Temperature °C\", \"Mols KCL\"]]\n",
    "features"
   ]
  },
  {
   "cell_type": "code",
   "execution_count": 43,
   "metadata": {},
   "outputs": [
    {
     "data": {
      "text/html": [
       "<div>\n",
       "<style scoped>\n",
       "    .dataframe tbody tr th:only-of-type {\n",
       "        vertical-align: middle;\n",
       "    }\n",
       "\n",
       "    .dataframe tbody tr th {\n",
       "        vertical-align: top;\n",
       "    }\n",
       "\n",
       "    .dataframe thead th {\n",
       "        text-align: right;\n",
       "    }\n",
       "</style>\n",
       "<table border=\"1\" class=\"dataframe\">\n",
       "  <thead>\n",
       "    <tr style=\"text-align: right;\">\n",
       "      <th></th>\n",
       "      <th>Size nm^3</th>\n",
       "    </tr>\n",
       "  </thead>\n",
       "  <tbody>\n",
       "    <tr>\n",
       "      <th>0</th>\n",
       "      <td>6.244743e+05</td>\n",
       "    </tr>\n",
       "    <tr>\n",
       "      <th>1</th>\n",
       "      <td>5.779610e+05</td>\n",
       "    </tr>\n",
       "    <tr>\n",
       "      <th>2</th>\n",
       "      <td>6.196847e+05</td>\n",
       "    </tr>\n",
       "    <tr>\n",
       "      <th>3</th>\n",
       "      <td>1.460449e+06</td>\n",
       "    </tr>\n",
       "    <tr>\n",
       "      <th>4</th>\n",
       "      <td>4.325726e+04</td>\n",
       "    </tr>\n",
       "    <tr>\n",
       "      <th>...</th>\n",
       "      <td>...</td>\n",
       "    </tr>\n",
       "    <tr>\n",
       "      <th>995</th>\n",
       "      <td>1.545661e+06</td>\n",
       "    </tr>\n",
       "    <tr>\n",
       "      <th>996</th>\n",
       "      <td>6.737041e+05</td>\n",
       "    </tr>\n",
       "    <tr>\n",
       "      <th>997</th>\n",
       "      <td>3.477543e+05</td>\n",
       "    </tr>\n",
       "    <tr>\n",
       "      <th>998</th>\n",
       "      <td>8.684794e+05</td>\n",
       "    </tr>\n",
       "    <tr>\n",
       "      <th>999</th>\n",
       "      <td>8.476413e+05</td>\n",
       "    </tr>\n",
       "  </tbody>\n",
       "</table>\n",
       "<p>1000 rows × 1 columns</p>\n",
       "</div>"
      ],
      "text/plain": [
       "        Size nm^3\n",
       "0    6.244743e+05\n",
       "1    5.779610e+05\n",
       "2    6.196847e+05\n",
       "3    1.460449e+06\n",
       "4    4.325726e+04\n",
       "..            ...\n",
       "995  1.545661e+06\n",
       "996  6.737041e+05\n",
       "997  3.477543e+05\n",
       "998  8.684794e+05\n",
       "999  8.476413e+05\n",
       "\n",
       "[1000 rows x 1 columns]"
      ]
     },
     "execution_count": 43,
     "metadata": {},
     "output_type": "execute_result"
    }
   ],
   "source": [
    "label = slime[['Size nm^3']]\n",
    "label"
   ]
  },
  {
   "cell_type": "code",
   "execution_count": 44,
   "metadata": {},
   "outputs": [],
   "source": [
    "from sklearn.model_selection import train_test_split\n",
    "\n",
    "X_train, X_test, y_train, y_test = train_test_split(features, label, test_size = 0.1)"
   ]
  },
  {
   "cell_type": "markdown",
   "metadata": {},
   "source": [
    "## Part 3. Perform a Linear Regression"
   ]
  },
  {
   "cell_type": "code",
   "execution_count": 45,
   "metadata": {
    "scrolled": true
   },
   "outputs": [
    {
     "data": {
      "text/plain": [
       "array([[1062691.21777251],\n",
       "       [ 937924.84806223],\n",
       "       [ 335145.06334462],\n",
       "       [ 647607.29933025],\n",
       "       [ 295245.86826049],\n",
       "       [-208422.53539193],\n",
       "       [ 577269.42299283],\n",
       "       [ 743810.4513314 ],\n",
       "       [ 549431.6458775 ],\n",
       "       [ 989530.30324702],\n",
       "       [ 912562.87894221],\n",
       "       [1011661.50455618],\n",
       "       [ 638763.8937211 ],\n",
       "       [1054766.77600525],\n",
       "       [1116877.62446192],\n",
       "       [ 252862.84854242],\n",
       "       [ 165936.34267567],\n",
       "       [1213686.76814655],\n",
       "       [ 329793.64540659],\n",
       "       [ 471896.40727963],\n",
       "       [1346588.59713599],\n",
       "       [ 116865.64496646],\n",
       "       [ 776622.16647699],\n",
       "       [   4272.94495318],\n",
       "       [   8671.96047149],\n",
       "       [ 130725.99377211],\n",
       "       [ 166844.18997936],\n",
       "       [ 354626.0665872 ],\n",
       "       [1287432.99122891],\n",
       "       [-230565.6726958 ],\n",
       "       [ 829210.36275976],\n",
       "       [1277722.37407601],\n",
       "       [ 739031.58649902],\n",
       "       [1000519.05042927],\n",
       "       [ 565497.92464953],\n",
       "       [ 710868.08177406],\n",
       "       [  69810.45387511],\n",
       "       [ 779037.47504225],\n",
       "       [-134578.36598238],\n",
       "       [ 206431.23236159],\n",
       "       [ 578436.12075049],\n",
       "       [ 559727.57158727],\n",
       "       [ 106810.98648361],\n",
       "       [ 679707.14878977],\n",
       "       [ 630810.02169532],\n",
       "       [ 916914.88097497],\n",
       "       [ 806352.08194378],\n",
       "       [ 738838.06325093],\n",
       "       [ 832450.69715903],\n",
       "       [ 913665.79944379],\n",
       "       [ 582408.27346917],\n",
       "       [ 833382.41645214],\n",
       "       [  72193.14331905],\n",
       "       [ 323246.09945238],\n",
       "       [ 354846.65068752],\n",
       "       [ 655247.46870435],\n",
       "       [ 848419.76009715],\n",
       "       [ 864872.99640214],\n",
       "       [1241200.45656527],\n",
       "       [1104065.25499689],\n",
       "       [ 605855.7821981 ],\n",
       "       [ 542075.83785981],\n",
       "       [ 457293.85410964],\n",
       "       [ 338090.73930581],\n",
       "       [ 806368.84571431],\n",
       "       [  78117.11436273],\n",
       "       [-280194.61810966],\n",
       "       [ 263312.48119685],\n",
       "       [-177117.4620514 ],\n",
       "       [-391783.89389834],\n",
       "       [ 196572.46653314],\n",
       "       [ 263719.39136314],\n",
       "       [ 573950.27544319],\n",
       "       [ 117432.63980301],\n",
       "       [ 190451.78337855],\n",
       "       [-101201.20595002],\n",
       "       [  65957.75006674],\n",
       "       [ 348586.56598928],\n",
       "       [  47649.00285092],\n",
       "       [ 646505.19828519],\n",
       "       [ 548243.53449995],\n",
       "       [ 428016.31234491],\n",
       "       [ 638295.66466825],\n",
       "       [ 117493.95868957],\n",
       "       [ 853335.56810365],\n",
       "       [ 890606.88716083],\n",
       "       [ 637238.93819572],\n",
       "       [ 434688.04602202],\n",
       "       [ 726332.28821869],\n",
       "       [  69897.2836641 ],\n",
       "       [ 206943.28603719],\n",
       "       [ 505871.63132007],\n",
       "       [ 390240.95625075],\n",
       "       [ 956536.18139154],\n",
       "       [ 886701.61159781],\n",
       "       [ 485292.53535174],\n",
       "       [  72327.71708688],\n",
       "       [-346624.03002126],\n",
       "       [ -52234.01283711],\n",
       "       [ 513348.5271611 ]])"
      ]
     },
     "execution_count": 45,
     "metadata": {},
     "output_type": "execute_result"
    }
   ],
   "source": [
    "# Use sklearn to train a model on the training set\n",
    "\n",
    "# Create a sample datapoint and predict the output of that sample with the trained model\n",
    "\n",
    "# Report on the score for that model, in your own words (markdown, not code) explain what the score means\n",
    "\n",
    "# Extract the coefficents and intercept from the model and write an equation for your h(x) using LaTeX\n",
    "from sklearn.linear_model import LinearRegression\n",
    "\n",
    "reg = LinearRegression().fit(X_train, y_train)\n",
    "reg.predict(X_test)"
   ]
  },
  {
   "cell_type": "code",
   "execution_count": 46,
   "metadata": {
    "scrolled": true
   },
   "outputs": [
    {
     "data": {
      "text/plain": [
       "322    1.231433e+06\n",
       "156    9.799923e+05\n",
       "858    2.388269e+05\n",
       "750    4.492695e+05\n",
       "855    2.691125e+05\n",
       "           ...     \n",
       "887    4.542493e+05\n",
       "657    1.084296e+05\n",
       "985    1.968257e+03\n",
       "549    7.614640e+04\n",
       "950    4.812353e+05\n",
       "Name: Size nm^3, Length: 100, dtype: float64"
      ]
     },
     "execution_count": 46,
     "metadata": {},
     "output_type": "execute_result"
    }
   ],
   "source": [
    "y_test['Size nm^3']"
   ]
  },
  {
   "cell_type": "code",
   "execution_count": 47,
   "metadata": {},
   "outputs": [
    {
     "data": {
      "text/plain": [
       "0.8486260122250803"
      ]
     },
     "execution_count": 47,
     "metadata": {},
     "output_type": "execute_result"
    }
   ],
   "source": [
    "reg.score(X_test, y_test)"
   ]
  },
  {
   "cell_type": "markdown",
   "metadata": {},
   "source": [
    "With a score of 0.85, my models predicates roughly around 85% correct.   "
   ]
  },
  {
   "cell_type": "code",
   "execution_count": 48,
   "metadata": {},
   "outputs": [
    {
     "data": {
      "text/plain": [
       "array([[ 873.58926935, 1036.04334591]])"
      ]
     },
     "execution_count": 48,
     "metadata": {},
     "output_type": "execute_result"
    }
   ],
   "source": [
    "reg.coef_"
   ]
  },
  {
   "cell_type": "code",
   "execution_count": 49,
   "metadata": {},
   "outputs": [
    {
     "data": {
      "text/plain": [
       "array([-415511.75566436])"
      ]
     },
     "execution_count": 49,
     "metadata": {},
     "output_type": "execute_result"
    }
   ],
   "source": [
    "reg.intercept_"
   ]
  },
  {
   "cell_type": "markdown",
   "metadata": {},
   "source": [
    "$h(892.49515243) = 1036.04334591 = 873.58926935m - 415511.75566436\\\\\n",
    "m = 476.82\\\\\n",
    "h(x) = 476.82x - 415511.75566436$"
   ]
  },
  {
   "cell_type": "markdown",
   "metadata": {},
   "source": [
    "## Part 4. Use Cross Validation"
   ]
  },
  {
   "cell_type": "code",
   "execution_count": 50,
   "metadata": {},
   "outputs": [
    {
     "name": "stderr",
     "output_type": "stream",
     "text": [
      "C:\\Users\\kenne\\Anaconda3\\lib\\site-packages\\sklearn\\model_selection\\_split.py:442: DeprecationWarning: `np.int` is a deprecated alias for the builtin `int`. To silence this warning, use `int` by itself. Doing this will not modify any behavior and is safe. When replacing `np.int`, you may wish to use e.g. `np.int64` or `np.int32` to specify the precision. If you wish to review your current use, check the release note link for additional information.\n",
      "Deprecated in NumPy 1.20; for more details and guidance: https://numpy.org/devdocs/release/1.20.0-notes.html#deprecations\n",
      "  fold_sizes = np.full(n_splits, n_samples // n_splits, dtype=np.int)\n",
      "C:\\Users\\kenne\\Anaconda3\\lib\\site-packages\\sklearn\\model_selection\\_split.py:102: DeprecationWarning: `np.bool` is a deprecated alias for the builtin `bool`. To silence this warning, use `bool` by itself. Doing this will not modify any behavior and is safe. If you specifically wanted the numpy scalar type, use `np.bool_` here.\n",
      "Deprecated in NumPy 1.20; for more details and guidance: https://numpy.org/devdocs/release/1.20.0-notes.html#deprecations\n",
      "  test_mask = np.zeros(_num_samples(X), dtype=np.bool)\n",
      "C:\\Users\\kenne\\Anaconda3\\lib\\site-packages\\sklearn\\model_selection\\_split.py:102: DeprecationWarning: `np.bool` is a deprecated alias for the builtin `bool`. To silence this warning, use `bool` by itself. Doing this will not modify any behavior and is safe. If you specifically wanted the numpy scalar type, use `np.bool_` here.\n",
      "Deprecated in NumPy 1.20; for more details and guidance: https://numpy.org/devdocs/release/1.20.0-notes.html#deprecations\n",
      "  test_mask = np.zeros(_num_samples(X), dtype=np.bool)\n",
      "C:\\Users\\kenne\\Anaconda3\\lib\\site-packages\\sklearn\\model_selection\\_split.py:102: DeprecationWarning: `np.bool` is a deprecated alias for the builtin `bool`. To silence this warning, use `bool` by itself. Doing this will not modify any behavior and is safe. If you specifically wanted the numpy scalar type, use `np.bool_` here.\n",
      "Deprecated in NumPy 1.20; for more details and guidance: https://numpy.org/devdocs/release/1.20.0-notes.html#deprecations\n",
      "  test_mask = np.zeros(_num_samples(X), dtype=np.bool)\n"
     ]
    },
    {
     "data": {
      "text/plain": [
       "array([0.86454692, 0.85788336, 0.86152388])"
      ]
     },
     "execution_count": 50,
     "metadata": {},
     "output_type": "execute_result"
    }
   ],
   "source": [
    "# Use the cross_val_score function to repeat your experiment across many shuffles of the data\n",
    "\n",
    "# Report on their finding and their significance\n",
    "from sklearn.model_selection import cross_val_score\n",
    "\n",
    "cross_val_score(LinearRegression(), X_train, y_train, cv=3)"
   ]
  },
  {
   "cell_type": "markdown",
   "metadata": {},
   "source": [
    "When doing cross_val_score with 3-folds, it has returned an average of 0.86132 and a standard deviation of 0.002724.\n",
    "Cross-validating shows that it can increase the accuracy of the model."
   ]
  },
  {
   "cell_type": "markdown",
   "metadata": {},
   "source": [
    "## Part 5. Using Polynomial Regression"
   ]
  },
  {
   "cell_type": "code",
   "execution_count": 103,
   "metadata": {},
   "outputs": [
    {
     "data": {
      "text/plain": [
       "array([[1.00000e+00, 3.89000e+02, 5.70000e+02, 1.51321e+05, 2.21730e+05,\n",
       "        3.24900e+05],\n",
       "       [1.00000e+00, 9.54000e+02, 8.55000e+02, 9.10116e+05, 8.15670e+05,\n",
       "        7.31025e+05],\n",
       "       [1.00000e+00, 8.36000e+02, 5.73000e+02, 6.98896e+05, 4.79028e+05,\n",
       "        3.28329e+05],\n",
       "       ...,\n",
       "       [1.00000e+00, 4.15000e+02, 4.60000e+01, 1.72225e+05, 1.90900e+04,\n",
       "        2.11600e+03],\n",
       "       [1.00000e+00, 1.61000e+02, 6.22000e+02, 2.59210e+04, 1.00142e+05,\n",
       "        3.86884e+05],\n",
       "       [1.00000e+00, 8.83000e+02, 8.52000e+02, 7.79689e+05, 7.52316e+05,\n",
       "        7.25904e+05]])"
      ]
     },
     "execution_count": 103,
     "metadata": {},
     "output_type": "execute_result"
    }
   ],
   "source": [
    "# Using the PolynomialFeatures library perform another regression on an augmented dataset of degree 2\n",
    "\n",
    "# Report on the metrics and output the resultant equation as you did in Part 3.\n",
    "from sklearn.preprocessing import PolynomialFeatures\n",
    "from sklearn import linear_model\n",
    "\n",
    "poly = PolynomialFeatures(2)\n",
    "poly.fit_transform(X_train)"
   ]
  },
  {
   "cell_type": "code",
   "execution_count": 104,
   "metadata": {},
   "outputs": [
    {
     "data": {
      "text/plain": [
       "0      6.244743e+05\n",
       "1      5.779610e+05\n",
       "2      6.196847e+05\n",
       "3      1.460449e+06\n",
       "4      4.325726e+04\n",
       "           ...     \n",
       "995    1.545661e+06\n",
       "996    6.737041e+05\n",
       "997    3.477543e+05\n",
       "998    8.684794e+05\n",
       "999    8.476413e+05\n",
       "Name: Size nm^3, Length: 1000, dtype: float64"
      ]
     },
     "execution_count": 104,
     "metadata": {},
     "output_type": "execute_result"
    }
   ],
   "source": [
    "# to fix the warning of using BaynesianRidge(), I had to change I from a Pandas DataFrame to an 1d Array. It worked\n",
    "# regardless but this is a just incase.\n",
    "label = slime['Size nm^3']\n",
    "label"
   ]
  },
  {
   "cell_type": "code",
   "execution_count": 105,
   "metadata": {},
   "outputs": [
    {
     "data": {
      "text/plain": [
       "BayesianRidge(alpha_1=1e-06, alpha_2=1e-06, compute_score=False, copy_X=True,\n",
       "              fit_intercept=True, lambda_1=1e-06, lambda_2=1e-06, n_iter=300,\n",
       "              normalize=False, tol=0.001, verbose=False)"
      ]
     },
     "execution_count": 105,
     "metadata": {},
     "output_type": "execute_result"
    }
   ],
   "source": [
    "poly_reg = PolynomialFeatures(degree = 2)\n",
    "X_poly = poly_reg.fit_transform(features)\n",
    "pol_reg = linear_model.BayesianRidge()\n",
    "pol_reg.fit(X_poly, label)"
   ]
  },
  {
   "cell_type": "code",
   "execution_count": 106,
   "metadata": {
    "scrolled": true
   },
   "outputs": [
    {
     "data": {
      "text/plain": [
       "array([6.24474257e+05, 5.77961029e+05, 6.19684714e+05, 1.46044903e+06,\n",
       "       4.32572572e+04, 7.12463400e+05, 7.00696029e+05, 2.71826029e+05,\n",
       "       8.91980286e+04, 4.77021029e+05, 2.44177114e+05, 5.00645457e+05,\n",
       "       3.14520000e+04, 5.39021457e+05, 9.18527143e+04, 3.95288286e+04,\n",
       "       5.38421457e+05, 1.14843143e+04, 1.48585029e+05, 4.16308457e+05,\n",
       "       1.31596457e+05, 4.82433257e+05, 1.16136540e+06, 1.36031143e+04,\n",
       "       4.24489114e+05, 1.97787143e+04, 8.03035857e+05, 3.21295000e+05,\n",
       "       6.95233029e+05, 2.23961400e+05, 1.10432926e+06, 1.92627283e+06,\n",
       "       5.21373600e+05, 7.91715314e+05, 4.53954314e+05, 5.11930286e+04,\n",
       "       5.94753143e+04, 4.40629714e+05, 4.60782857e+05, 7.88616000e+04,\n",
       "       8.03208600e+05, 2.28364457e+05, 2.41597829e+05, 1.04578046e+06,\n",
       "       6.59932571e+04, 6.18540286e+04, 3.97636457e+05, 4.93009714e+05,\n",
       "       1.18457029e+05, 2.42666829e+05, 1.26718971e+06, 1.28496257e+05,\n",
       "       6.10293600e+05, 5.76091143e+04, 9.13729029e+05, 1.41796260e+06,\n",
       "       5.31800286e+04, 4.93764571e+04, 6.40081029e+05, 9.38430829e+05,\n",
       "       5.05611430e+03, 7.31992257e+05, 3.75462571e+04, 9.73751114e+05,\n",
       "       3.45933257e+05, 8.23036114e+05, 3.42182029e+05, 7.12977114e+05,\n",
       "       3.78131314e+05, 1.94912829e+05, 6.80136829e+05, 1.09724626e+06,\n",
       "       3.43392114e+05, 8.08596257e+05, 5.49034029e+05, 2.57202029e+05,\n",
       "       2.56621829e+05, 4.01612429e+05, 9.09842571e+04, 6.54135429e+05,\n",
       "       3.68860286e+04, 4.30492314e+05, 1.73630100e+06, 2.71050400e+05,\n",
       "       7.81566429e+05, 4.76349257e+05, 1.13658643e+06, 6.09377143e+04,\n",
       "       8.68430829e+05, 5.37425257e+05, 2.24347114e+05, 2.25829029e+05,\n",
       "       2.64800029e+05, 1.44585886e+06, 3.05201829e+05, 1.01626314e+05,\n",
       "       8.28351143e+04, 6.35764571e+04, 5.89426857e+05, 2.63448114e+05,\n",
       "       6.09299314e+05, 3.30255457e+05, 5.05469257e+05, 3.35937857e+05,\n",
       "       1.47318743e+06, 2.39418314e+05, 4.04337143e+04, 1.04920946e+06,\n",
       "       2.82796457e+05, 1.61116457e+05, 5.48252571e+04, 3.38068257e+05,\n",
       "       2.74972029e+05, 9.57954571e+04, 1.67575457e+05, 1.25448286e+04,\n",
       "       4.56082714e+05, 3.75531400e+05, 3.76202257e+05, 4.32728286e+04,\n",
       "       6.67143022e+01, 2.99089029e+05, 7.42452257e+05, 2.88919429e+05,\n",
       "       1.43040286e+04, 1.15681143e+04, 1.24286460e+06, 1.22953257e+05,\n",
       "       1.80517600e+05, 6.73711143e+04, 1.54241114e+05, 1.24615340e+06,\n",
       "       1.12075783e+06, 1.22228571e+06, 1.15344643e+06, 5.65980000e+05,\n",
       "       3.58129714e+05, 1.54538846e+06, 1.30044314e+05, 1.16391429e+05,\n",
       "       3.55520829e+05, 7.18007429e+05, 2.60663143e+04, 6.78212572e+04,\n",
       "       3.57346029e+05, 6.34284314e+05, 8.47613829e+05, 1.93129257e+05,\n",
       "       4.10314301e+02, 9.88129457e+05, 8.94889029e+05, 2.22812572e+04,\n",
       "       3.62578714e+05, 5.55003429e+05, 1.47449711e+06, 2.40202314e+05,\n",
       "       9.79992257e+05, 3.45304286e+04, 3.28049029e+05, 1.17746071e+06,\n",
       "       1.94852457e+05, 9.10304829e+05, 5.47971429e+05, 5.07560114e+05,\n",
       "       1.00447483e+06, 2.40833829e+05, 1.09235683e+06, 1.00324029e+05,\n",
       "       1.27662571e+04, 5.45187114e+05, 2.71120286e+04, 1.74754600e+05,\n",
       "       9.25585716e+03, 1.30503111e+06, 3.30257158e+02, 3.83617029e+05,\n",
       "       2.20722829e+05, 3.09564029e+05, 7.23400314e+05, 6.13645600e+05,\n",
       "       6.30814029e+05, 1.49946257e+05, 1.21228429e+05, 7.04410857e+05,\n",
       "       5.56872257e+05, 1.73457159e+02, 6.77849714e+05, 8.08565257e+05,\n",
       "       6.25307314e+05, 5.55545000e+05, 1.07782503e+06, 5.02017029e+05,\n",
       "       4.95720000e+05, 8.05821400e+05, 3.39907314e+05, 1.53670731e+06,\n",
       "       1.30304111e+06, 9.56940002e+03, 9.72528114e+05, 1.90276457e+05,\n",
       "       5.83889114e+05, 3.79513029e+05, 8.51571314e+05, 6.08830829e+05,\n",
       "       2.29690286e+04, 3.21042571e+04, 1.92604572e+04, 8.71485457e+05,\n",
       "       8.62471114e+05, 4.03842857e+05, 3.04432457e+05, 9.62502571e+04,\n",
       "       7.18649400e+05, 1.04813600e+06, 7.30240029e+05, 1.33772103e+06,\n",
       "       7.48713857e+05, 9.23171143e+04, 1.89236829e+05, 1.49315314e+05,\n",
       "       8.69366857e+05, 1.18924114e+05, 6.54204286e+04, 4.70630400e+05,\n",
       "       2.08777714e+05, 1.22337111e+06, 6.68045716e+03, 5.37114300e+02,\n",
       "       9.77468829e+05, 6.65511429e+03, 6.89003143e+04, 1.07378403e+06,\n",
       "       1.88056114e+05, 5.17377029e+05, 1.81699114e+05, 1.23172829e+05,\n",
       "       7.58932714e+05, 1.93085257e+05, 1.05400016e+02, 4.80147143e+04,\n",
       "       7.15664114e+05, 3.01391143e+04, 1.69837714e+05, 2.37080114e+05,\n",
       "       5.34515457e+05, 5.01712600e+05, 1.61846203e+06, 3.35550429e+05,\n",
       "       2.84966314e+05, 2.70368000e+05, 6.71115429e+05, 2.63859857e+05,\n",
       "       3.00269829e+05, 6.81058286e+04, 3.16188000e+05, 9.35724286e+04,\n",
       "       5.05027400e+05, 1.06647531e+06, 1.50911211e+06, 8.59933857e+05,\n",
       "       1.04123114e+05, 1.24219443e+06, 1.19094846e+06, 9.58763457e+05,\n",
       "       1.10457257e+05, 3.45400714e+05, 5.62824114e+05, 1.48947143e+04,\n",
       "       1.62132686e+06, 7.00322857e+05, 3.35545000e+05, 9.97619314e+05,\n",
       "       1.38734700e+06, 1.36744026e+06, 1.08651231e+06, 1.10411426e+06,\n",
       "       1.03501829e+05, 1.01254603e+06, 3.16844114e+05, 6.00671143e+04,\n",
       "       7.11794571e+04, 6.52805829e+05, 9.24024000e+04, 8.80350429e+05,\n",
       "       2.49043114e+05, 2.84117829e+05, 4.58031857e+05, 1.49123371e+06,\n",
       "       1.06489783e+06, 7.32261029e+05, 6.18911429e+03, 1.71064257e+05,\n",
       "       6.51534571e+04, 1.81536343e+06, 1.38011383e+06, 1.93788286e+04,\n",
       "       9.71624114e+05, 1.60322146e+06, 1.57789131e+06, 4.08676457e+05,\n",
       "       3.90116257e+05, 1.07916029e+05, 2.68258286e+04, 9.16383143e+04,\n",
       "       1.66440286e+04, 1.03615326e+06, 5.21542571e+04, 3.03944714e+05,\n",
       "       2.46084286e+04, 1.06949040e+06, 2.29204029e+05, 1.88886446e+06,\n",
       "       9.65613829e+05, 4.12822257e+05, 5.09602859e+03, 8.46169714e+05,\n",
       "       8.21327143e+04, 2.06993829e+05, 1.50487143e+04, 1.48665911e+06,\n",
       "       5.06370429e+05, 3.19123400e+05, 1.23143271e+06, 2.94994429e+05,\n",
       "       1.11379646e+06, 1.26995511e+06, 5.10753257e+05, 6.39442429e+05,\n",
       "       2.24846314e+05, 1.30380711e+06, 7.24028585e+02, 1.00190826e+06,\n",
       "       2.33313257e+05, 1.34438400e+05, 1.17146846e+06, 2.11805600e+05,\n",
       "       9.54588457e+05, 8.14731430e+03, 4.17030029e+05, 3.50058714e+05,\n",
       "       4.99507457e+05, 7.13457257e+05, 1.27002858e+03, 8.54450286e+04,\n",
       "       1.46566411e+06, 1.74367326e+06, 3.50800114e+05, 1.11477871e+06,\n",
       "       2.20367314e+05, 7.34313257e+05, 1.10090883e+06, 1.93753029e+05,\n",
       "       1.33336029e+05, 1.24416829e+05, 6.14610429e+05, 6.58197829e+05,\n",
       "       9.77113714e+05, 8.04764572e+04, 1.01789931e+06, 1.77320331e+06,\n",
       "       2.64662829e+05, 2.50464114e+05, 6.23115314e+05, 4.92524600e+05,\n",
       "       5.47488114e+05, 1.37049829e+05, 1.34657371e+06, 3.11881257e+05,\n",
       "       5.44500029e+05, 3.79737400e+05, 3.89294314e+05, 1.44061911e+06,\n",
       "       2.16979114e+05, 2.87068457e+05, 4.39602400e+05, 1.88438257e+05,\n",
       "       1.29384686e+06, 4.68467143e+04, 1.86544286e+04, 1.04375031e+06,\n",
       "       4.12283314e+05, 9.38629029e+05, 1.24874203e+06, 2.40674400e+05,\n",
       "       2.51269829e+05, 1.86264314e+05, 3.74084457e+05, 5.94954286e+04,\n",
       "       6.72129029e+05, 6.31226400e+05, 1.60506429e+05, 9.85604457e+05,\n",
       "       8.41912114e+05, 2.56361143e+04, 3.22402858e+03, 1.53178286e+04,\n",
       "       5.45382571e+04, 1.90750029e+05, 1.92241143e+04, 1.07111430e+03,\n",
       "       3.54956457e+05, 3.82561143e+04, 8.20856114e+05, 6.33191143e+04,\n",
       "       5.02194857e+05, 1.03650411e+06, 2.68353714e+05, 2.39246314e+05,\n",
       "       1.88480103e+06, 1.99914571e+04, 6.16366857e+05, 9.53685000e+05,\n",
       "       9.34857257e+05, 9.97425715e+03, 5.41882858e+03, 2.78414571e+04,\n",
       "       1.18851786e+06, 2.78072257e+05, 3.98301257e+05, 1.79065714e+05,\n",
       "       9.66728286e+04, 6.16659457e+05, 8.15536829e+05, 1.25717211e+06,\n",
       "       4.11841143e+04, 1.20913260e+06, 1.26525586e+06, 1.75371114e+05,\n",
       "       1.07004960e+06, 5.47625257e+05, 7.38529714e+05, 6.79977257e+05,\n",
       "       7.78384314e+05, 4.26940257e+05, 7.78494571e+04, 4.41286600e+05,\n",
       "       6.30519857e+05, 4.98928286e+04, 4.74588257e+05, 3.19070314e+05,\n",
       "       5.78913857e+05, 7.48334571e+04, 3.21153829e+05, 2.41161257e+05,\n",
       "       8.91177257e+05, 1.86374083e+06, 4.08340286e+04, 8.97683457e+05,\n",
       "       1.19554571e+04, 2.43062571e+04, 4.42691143e+04, 1.46083211e+06,\n",
       "       8.91164571e+04, 6.16478829e+05, 4.86652457e+05, 8.74551143e+04,\n",
       "       7.56182314e+05, 3.16833400e+05, 2.54504257e+05, 7.78041257e+05,\n",
       "       2.95560286e+04, 1.57454111e+06, 4.93706829e+05, 2.86745714e+05,\n",
       "       6.11333829e+05, 4.00778286e+04, 5.86383429e+05, 3.99510257e+05,\n",
       "       5.78882857e+05, 1.52406083e+06, 1.28284457e+05, 5.17540002e+03,\n",
       "       4.57410857e+05, 2.08988457e+05, 6.98809714e+05, 4.77348457e+05,\n",
       "       1.24421346e+06, 2.39585714e+05, 1.48562314e+05, 6.76430029e+05,\n",
       "       8.49300286e+04, 5.73634286e+04, 2.16833457e+05, 3.17104114e+05,\n",
       "       9.05448286e+04, 1.78553203e+06, 7.35845400e+05, 5.83062571e+04,\n",
       "       3.43372714e+05, 1.17433029e+05, 5.85545715e+03, 5.23650400e+05,\n",
       "       4.16356029e+05, 1.30851000e+05, 8.19084571e+04, 4.76394429e+05,\n",
       "       8.11164600e+05, 7.73750257e+05, 1.74310731e+06, 6.22649829e+05,\n",
       "       6.27708571e+04, 7.89596314e+05, 3.81819429e+05, 9.02261457e+05,\n",
       "       1.14387431e+06, 8.41457156e+02, 3.26921143e+04, 3.19655314e+05,\n",
       "       5.58759857e+05, 8.70682858e+03, 1.71829829e+05, 2.75385857e+05,\n",
       "       7.28266029e+05, 2.85719400e+05, 9.14373114e+05, 3.28200257e+05,\n",
       "       2.82812314e+05, 1.09042026e+06, 1.55745703e+06, 1.30431429e+05,\n",
       "       1.77937829e+05, 1.17762314e+05, 4.99694829e+05, 7.03160114e+05,\n",
       "       5.62423143e+04, 2.21392829e+05, 7.56696114e+05, 6.87856114e+05,\n",
       "       2.89045257e+05, 7.00945715e+03, 1.46307671e+06, 9.01128114e+05,\n",
       "       6.03438857e+05, 1.59128829e+05, 8.07512429e+05, 1.04956829e+05,\n",
       "       1.60969257e+05, 9.85393143e+04, 4.52397600e+05, 1.47562483e+06,\n",
       "       4.08860829e+05, 1.12012572e+04, 2.45060457e+05, 3.11877257e+05,\n",
       "       8.59434857e+05, 9.66332571e+04, 3.81268714e+05, 5.77806829e+05,\n",
       "       3.19512429e+05, 7.61464000e+04, 1.54600946e+06, 1.13411211e+06,\n",
       "       8.78646257e+05, 4.55071143e+04, 2.91141829e+05, 3.96298257e+05,\n",
       "       3.60812829e+05, 1.49261146e+06, 1.56419646e+06, 1.10481531e+06,\n",
       "       5.29153029e+05, 9.07841143e+04, 8.10049600e+05, 8.59049114e+05,\n",
       "       4.33394571e+04, 2.67914286e+04, 1.76954503e+06, 2.93546829e+05,\n",
       "       4.89186257e+05, 1.38054686e+06, 3.05002257e+05, 8.14090286e+04,\n",
       "       7.91088286e+04, 1.56607543e+06, 2.32641143e+04, 7.24974257e+05,\n",
       "       7.50482858e+03, 7.39732314e+05, 1.48395457e+05, 1.12557114e+05,\n",
       "       4.70399314e+05, 1.61143026e+01, 8.63716029e+05, 4.71719400e+05,\n",
       "       4.52268000e+05, 2.52115457e+05, 1.74842829e+05, 1.15613257e+05,\n",
       "       4.62369857e+05, 8.23033029e+05, 4.94674314e+05, 1.09212031e+06,\n",
       "       5.81400286e+04, 6.25714857e+05, 8.29200314e+05, 4.17231430e+03,\n",
       "       4.22777829e+05, 3.38140000e+05, 6.74171314e+05, 2.44549600e+05,\n",
       "       3.63689257e+05, 3.60768257e+05, 1.14416314e+05, 4.29082858e+03,\n",
       "       1.40512903e+06, 2.40577143e+04, 7.38660286e+04, 4.82883143e+04,\n",
       "       9.02100600e+05, 9.31366829e+05, 6.93393029e+05, 2.89780114e+05,\n",
       "       1.60854571e+04, 1.20599246e+06, 1.97212740e+06, 2.92210029e+05,\n",
       "       1.27749383e+06, 5.25291429e+05, 3.95666857e+05, 8.91769114e+05,\n",
       "       1.05033326e+06, 3.60092314e+05, 4.54566429e+05, 2.95489114e+05,\n",
       "       7.07185714e+05, 3.86430429e+05, 2.22299400e+05, 1.28727260e+06,\n",
       "       4.68321143e+04, 2.65273457e+05, 1.99823400e+05, 4.58609457e+05,\n",
       "       7.27744114e+05, 1.08556003e+06, 2.59291143e+04, 7.50920286e+04,\n",
       "       8.23168314e+05, 1.04120286e+04, 2.49956600e+05, 8.15497257e+05,\n",
       "       3.42303143e+04, 1.42908286e+04, 1.02334711e+06, 1.34640286e+04,\n",
       "       6.80894257e+05, 3.37428429e+05, 5.75879314e+05, 1.79771043e+06,\n",
       "       7.07601457e+05, 2.83583143e+04, 1.53731314e+05, 1.08112411e+06,\n",
       "       1.02109714e+05, 7.04621829e+05, 1.60466857e+05, 3.66960286e+04,\n",
       "       9.32680286e+04, 1.08429600e+05, 9.99582257e+05, 1.20136029e+05,\n",
       "       1.71603946e+06, 7.63557000e+05, 1.02252331e+06, 7.86488286e+04,\n",
       "       5.40201257e+05, 4.17425400e+05, 2.21129114e+05, 7.90416000e+04,\n",
       "       1.42404926e+06, 4.95868457e+05, 6.16957257e+05, 4.72613829e+05,\n",
       "       3.55862571e+04, 1.25074640e+06, 1.61112600e+05, 2.44745457e+05,\n",
       "       1.61217257e+05, 1.57312114e+05, 1.15057114e+05, 2.77241143e+04,\n",
       "       2.64481029e+05, 1.29173829e+05, 7.36484029e+05, 6.46518314e+05,\n",
       "       9.98594029e+05, 1.36864443e+06, 1.19722029e+05, 4.92891314e+05,\n",
       "       6.02291457e+05, 6.24742429e+05, 7.36065029e+05, 5.54582859e+03,\n",
       "       3.34372457e+05, 3.08171143e+04, 1.10939546e+06, 7.19365600e+05,\n",
       "       4.05570857e+05, 1.27018346e+06, 3.65193400e+05, 8.38934829e+05,\n",
       "       5.29296257e+05, 4.92338400e+05, 4.07851114e+05, 8.26495000e+05,\n",
       "       8.11563143e+04, 6.36024000e+04, 9.68926000e+04, 3.76396457e+05,\n",
       "       2.34048286e+04, 2.03351143e+04, 1.11047457e+05, 7.85161029e+05,\n",
       "       6.82271314e+05, 2.31532457e+05, 3.13061829e+05, 1.15123486e+06,\n",
       "       1.03064314e+05, 2.81766400e+05, 6.82266857e+05, 1.30749886e+06,\n",
       "       3.54575114e+05, 6.21303429e+05, 7.21471314e+05, 2.49983143e+04,\n",
       "       1.71276926e+06, 1.86678314e+05, 7.51032257e+05, 1.12016714e+05,\n",
       "       4.56054429e+05, 8.37444286e+04, 7.95132257e+05, 7.59242400e+05,\n",
       "       1.03069003e+06, 5.82477829e+05, 2.71664029e+05, 1.38913714e+05,\n",
       "       6.64790600e+05, 8.68729257e+05, 1.79392114e+05, 2.00457257e+05,\n",
       "       1.08489300e+06, 5.56986600e+05, 3.08131143e+04, 1.71635803e+06,\n",
       "       1.40516460e+06, 1.37425783e+06, 8.24400600e+05, 1.15307900e+06,\n",
       "       8.27993257e+05, 1.03489114e+05, 4.49269457e+05, 1.53596811e+06,\n",
       "       1.31257029e+05, 3.77713029e+05, 2.07198857e+05, 1.02880114e+05,\n",
       "       4.21308286e+04, 4.69778400e+05, 2.86018857e+05, 1.17646257e+05,\n",
       "       3.59614029e+05, 2.17334314e+05, 1.19853829e+05, 2.10333600e+05,\n",
       "       7.67623429e+05, 2.45986714e+05, 1.81551457e+05, 1.07822443e+06,\n",
       "       1.43518183e+06, 2.29356000e+05, 2.40652029e+05, 1.55349257e+05,\n",
       "       1.79843143e+04, 3.78242857e+05, 1.97369714e+05, 5.84457029e+05,\n",
       "       8.84457600e+05, 3.44567429e+05, 7.42702029e+05, 1.10952031e+06,\n",
       "       9.25831429e+03, 3.19714029e+05, 1.01454160e+06, 2.37863314e+05,\n",
       "       9.92136600e+05, 2.51831430e+03, 2.91132000e+05, 1.23976740e+06,\n",
       "       1.43166160e+06, 1.66058286e+04, 7.23568114e+05, 7.37536114e+05,\n",
       "       8.62913143e+04, 1.05541457e+05, 1.94317829e+05, 3.48355314e+05,\n",
       "       1.15608846e+06, 2.36712114e+05, 1.39407457e+05, 1.39883700e+06,\n",
       "       6.71197457e+05, 4.99556314e+05, 8.18933600e+05, 3.62071143e+04,\n",
       "       8.86261457e+05, 6.85716457e+05, 9.47629114e+05, 1.66367443e+06,\n",
       "       5.40877829e+05, 4.48644314e+05, 7.43933829e+05, 2.43109457e+05,\n",
       "       9.40712114e+05, 3.92907457e+05, 6.34643314e+05, 6.40446429e+05,\n",
       "       3.09613114e+05, 7.58047114e+05, 1.65529726e+06, 1.41099457e+05,\n",
       "       4.55983857e+05, 6.50273143e+04, 7.49361029e+05, 4.31400600e+05,\n",
       "       3.27117457e+05, 9.20531314e+05, 4.78631429e+03, 2.61596714e+05,\n",
       "       9.84742571e+04, 3.34174571e+04, 8.64352114e+05, 2.90225715e+03,\n",
       "       1.85476314e+05, 3.62571596e+01, 8.66502859e+03, 2.32828587e+02,\n",
       "       6.98827114e+05, 8.73038314e+05, 3.91831429e+03, 3.81815314e+05,\n",
       "       1.01029114e+05, 1.65682572e+04, 1.02610903e+06, 1.53021457e+05,\n",
       "       5.77260314e+05, 2.20280000e+04, 6.16457029e+05, 3.96173829e+05,\n",
       "       6.03241257e+05, 9.84988286e+04, 1.07180386e+06, 4.91389457e+05,\n",
       "       4.55728829e+05, 1.22792686e+06, 2.36956114e+05, 2.69112457e+05,\n",
       "       2.31584257e+05, 6.03596829e+05, 2.38826857e+05, 2.87802714e+05,\n",
       "       6.00674857e+05, 9.44423143e+04, 1.35712114e+05, 3.05595400e+05,\n",
       "       2.19952457e+05, 4.35623000e+05, 3.37170857e+05, 1.85762571e+04,\n",
       "       3.25132829e+05, 7.94976829e+05, 3.13985257e+05, 1.42482858e+03,\n",
       "       3.51865257e+05, 6.51841029e+05, 3.26298572e+04, 5.60757457e+05,\n",
       "       8.38108314e+05, 3.09712257e+05, 1.27145029e+05, 1.59435511e+06,\n",
       "       5.18856029e+05, 2.98081029e+05, 4.96746257e+05, 4.10720600e+05,\n",
       "       1.66231457e+05, 9.42241457e+05, 1.01681643e+06, 4.54249257e+05,\n",
       "       5.58568457e+05, 5.97743114e+05, 1.33531429e+05, 6.72392829e+05,\n",
       "       1.03987314e+05, 5.36190829e+05, 1.51751143e+04, 4.63350714e+05,\n",
       "       2.13269829e+05, 1.64061746e+06, 1.64620029e+05, 5.49207314e+05,\n",
       "       4.76623457e+05, 5.54434600e+05, 1.07736803e+06, 8.18464114e+05,\n",
       "       3.18040000e+04, 6.70937114e+05, 5.13347114e+05, 5.20717457e+05,\n",
       "       3.68407143e+04, 2.26740429e+05, 6.72088457e+05, 2.15877600e+05,\n",
       "       5.37476829e+05, 4.13732829e+05, 7.58377114e+05, 1.07312314e+05,\n",
       "       1.43706126e+06, 3.58148457e+05, 1.60323531e+06, 3.46296114e+05,\n",
       "       1.06297831e+06, 8.96234571e+04, 6.16569857e+05, 3.87182257e+05,\n",
       "       4.80946400e+05, 9.76260286e+04, 8.28280000e+04, 4.73076600e+05,\n",
       "       9.54178829e+05, 6.61005000e+05, 1.14400011e+06, 6.12330286e+04,\n",
       "       9.29079314e+05, 1.03529243e+06, 5.02000000e+04, 1.70761660e+06,\n",
       "       2.16700286e+04, 7.74480114e+05, 3.55214714e+05, 7.38879429e+05,\n",
       "       2.51469829e+05, 2.53718829e+05, 5.21228571e+04, 2.30945715e+03,\n",
       "       4.22685029e+05, 2.00866257e+05, 3.47416457e+05, 1.50313257e+05,\n",
       "       1.72224626e+06, 1.65311430e+03, 4.81235314e+05, 1.37193257e+05,\n",
       "       4.26357257e+05, 1.32183143e+06, 6.74216000e+04, 7.26984429e+05,\n",
       "       8.26151143e+04, 1.04350560e+06, 1.48401400e+05, 4.32204572e+04,\n",
       "       3.31453714e+05, 4.73130286e+04, 1.77567400e+05, 1.16260029e+05,\n",
       "       1.24290600e+05, 2.35764114e+05, 1.21469714e+05, 1.05945026e+06,\n",
       "       2.63337829e+05, 9.81716600e+05, 2.78615429e+05, 3.17629857e+05,\n",
       "       4.59800314e+05, 1.28610714e+05, 1.14028114e+05, 1.05181543e+06,\n",
       "       6.32188314e+05, 2.40745257e+05, 9.56928114e+05, 5.98296114e+05,\n",
       "       1.64214429e+05, 1.42239803e+06, 1.96465029e+05, 7.39640829e+05,\n",
       "       1.27960046e+06, 1.96825715e+03, 7.97577257e+05, 4.15563429e+05,\n",
       "       4.46968286e+04, 1.30239429e+05, 9.08938286e+04, 1.33161386e+06,\n",
       "       4.87152257e+05, 1.70568429e+05, 3.47025715e+03, 1.54566140e+06,\n",
       "       6.73704114e+05, 3.47754257e+05, 8.68479400e+05, 8.47641257e+05])"
      ]
     },
     "execution_count": 106,
     "metadata": {},
     "output_type": "execute_result"
    }
   ],
   "source": [
    "pol_reg.predict(X_poly)"
   ]
  },
  {
   "cell_type": "code",
   "execution_count": 107,
   "metadata": {},
   "outputs": [
    {
     "data": {
      "text/plain": [
       "1.0"
      ]
     },
     "execution_count": 107,
     "metadata": {},
     "output_type": "execute_result"
    }
   ],
   "source": [
    "pol_reg.score(X_poly, label)"
   ]
  },
  {
   "cell_type": "markdown",
   "metadata": {},
   "source": [
    "With a score of 1.0, it shows that using Lasso and PolynomialFeatures would have my model predict roughly 100% correct. Which is a huge imporvement over the score from linear regression which was 0.85"
   ]
  },
  {
   "cell_type": "code",
   "execution_count": 108,
   "metadata": {},
   "outputs": [
    {
     "data": {
      "text/plain": [
       "array([ 0.00000000e+00,  1.20000000e+01, -1.22330675e-07, -7.19779791e-12,\n",
       "        2.00000000e+00,  2.85714287e-02])"
      ]
     },
     "execution_count": 108,
     "metadata": {},
     "output_type": "execute_result"
    }
   ],
   "source": [
    "pol_reg.coef_"
   ]
  },
  {
   "cell_type": "code",
   "execution_count": 109,
   "metadata": {},
   "outputs": [
    {
     "data": {
      "text/plain": [
       "1.7097219824790955e-05"
      ]
     },
     "execution_count": 109,
     "metadata": {},
     "output_type": "execute_result"
    }
   ],
   "source": [
    "pol_reg.intercept_"
   ]
  },
  {
   "cell_type": "code",
   "execution_count": 110,
   "metadata": {},
   "outputs": [
    {
     "name": "stdout",
     "output_type": "stream",
     "text": [
      "Inliers coef:[0.000 12.000 -0.000 -0.000 2.000 0.029] - b:0.00\n"
     ]
    }
   ],
   "source": [
    "reg_label = \"Inliers coef:%s - b:%0.2f\" % \\\n",
    "            (np.array2string(pol_reg.coef_,\n",
    "                             formatter={'float_kind': lambda fk: \"%.3f\" % fk}),\n",
    "            pol_reg.intercept_)\n",
    "print(reg_label)"
   ]
  },
  {
   "cell_type": "markdown",
   "metadata": {},
   "source": [
    "$y = 0 + 12a - 0b - 0a^2 + 2ab + 0.029b^2 - 0\\\\ $"
   ]
  }
 ],
 "metadata": {
  "kernelspec": {
   "display_name": "Python 3",
   "language": "python",
   "name": "python3"
  },
  "language_info": {
   "codemirror_mode": {
    "name": "ipython",
    "version": 3
   },
   "file_extension": ".py",
   "mimetype": "text/x-python",
   "name": "python",
   "nbconvert_exporter": "python",
   "pygments_lexer": "ipython3",
   "version": "3.7.4"
  }
 },
 "nbformat": 4,
 "nbformat_minor": 2
}
