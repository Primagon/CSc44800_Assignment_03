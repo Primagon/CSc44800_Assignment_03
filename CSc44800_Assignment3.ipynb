{
 "cells": [
  {
   "cell_type": "markdown",
   "metadata": {},
   "source": [
    "[![Open In Colab](https://colab.research.google.com/assets/colab-badge.svg)](https://colab.research.google.com/github/Primagon/CSc44800_Assignment_03/blob/main/CSc44800_Assignment3.ipynb)"
   ]
  },
  {
   "cell_type": "markdown",
   "metadata": {},
   "source": [
    "## Part 1. Loading the dataset"
   ]
  },
  {
   "cell_type": "code",
   "execution_count": 39,
   "metadata": {},
   "outputs": [
    {
     "data": {
      "text/html": [
       "<div>\n",
       "<style scoped>\n",
       "    .dataframe tbody tr th:only-of-type {\n",
       "        vertical-align: middle;\n",
       "    }\n",
       "\n",
       "    .dataframe tbody tr th {\n",
       "        vertical-align: top;\n",
       "    }\n",
       "\n",
       "    .dataframe thead th {\n",
       "        text-align: right;\n",
       "    }\n",
       "</style>\n",
       "<table border=\"1\" class=\"dataframe\">\n",
       "  <thead>\n",
       "    <tr style=\"text-align: right;\">\n",
       "      <th></th>\n",
       "      <th>Temperature °C</th>\n",
       "      <th>Mols KCL</th>\n",
       "      <th>Size nm^3</th>\n",
       "    </tr>\n",
       "  </thead>\n",
       "  <tbody>\n",
       "    <tr>\n",
       "      <th>0</th>\n",
       "      <td>469</td>\n",
       "      <td>647</td>\n",
       "      <td>6.244743e+05</td>\n",
       "    </tr>\n",
       "    <tr>\n",
       "      <th>1</th>\n",
       "      <td>403</td>\n",
       "      <td>694</td>\n",
       "      <td>5.779610e+05</td>\n",
       "    </tr>\n",
       "    <tr>\n",
       "      <th>2</th>\n",
       "      <td>302</td>\n",
       "      <td>975</td>\n",
       "      <td>6.196847e+05</td>\n",
       "    </tr>\n",
       "    <tr>\n",
       "      <th>3</th>\n",
       "      <td>779</td>\n",
       "      <td>916</td>\n",
       "      <td>1.460449e+06</td>\n",
       "    </tr>\n",
       "    <tr>\n",
       "      <th>4</th>\n",
       "      <td>901</td>\n",
       "      <td>18</td>\n",
       "      <td>4.325726e+04</td>\n",
       "    </tr>\n",
       "    <tr>\n",
       "      <th>5</th>\n",
       "      <td>545</td>\n",
       "      <td>637</td>\n",
       "      <td>7.124634e+05</td>\n",
       "    </tr>\n",
       "    <tr>\n",
       "      <th>6</th>\n",
       "      <td>660</td>\n",
       "      <td>519</td>\n",
       "      <td>7.006960e+05</td>\n",
       "    </tr>\n",
       "    <tr>\n",
       "      <th>7</th>\n",
       "      <td>143</td>\n",
       "      <td>869</td>\n",
       "      <td>2.718260e+05</td>\n",
       "    </tr>\n",
       "    <tr>\n",
       "      <th>8</th>\n",
       "      <td>89</td>\n",
       "      <td>461</td>\n",
       "      <td>8.919803e+04</td>\n",
       "    </tr>\n",
       "    <tr>\n",
       "      <th>9</th>\n",
       "      <td>294</td>\n",
       "      <td>776</td>\n",
       "      <td>4.770210e+05</td>\n",
       "    </tr>\n",
       "    <tr>\n",
       "      <th>10</th>\n",
       "      <td>991</td>\n",
       "      <td>117</td>\n",
       "      <td>2.441771e+05</td>\n",
       "    </tr>\n",
       "    <tr>\n",
       "      <th>11</th>\n",
       "      <td>307</td>\n",
       "      <td>781</td>\n",
       "      <td>5.006455e+05</td>\n",
       "    </tr>\n",
       "    <tr>\n",
       "      <th>12</th>\n",
       "      <td>206</td>\n",
       "      <td>70</td>\n",
       "      <td>3.145200e+04</td>\n",
       "    </tr>\n",
       "    <tr>\n",
       "      <th>13</th>\n",
       "      <td>437</td>\n",
       "      <td>599</td>\n",
       "      <td>5.390215e+05</td>\n",
       "    </tr>\n",
       "    <tr>\n",
       "      <th>14</th>\n",
       "      <td>566</td>\n",
       "      <td>75</td>\n",
       "      <td>9.185271e+04</td>\n",
       "    </tr>\n",
       "  </tbody>\n",
       "</table>\n",
       "</div>"
      ],
      "text/plain": [
       "    Temperature °C  Mols KCL     Size nm^3\n",
       "0              469       647  6.244743e+05\n",
       "1              403       694  5.779610e+05\n",
       "2              302       975  6.196847e+05\n",
       "3              779       916  1.460449e+06\n",
       "4              901        18  4.325726e+04\n",
       "5              545       637  7.124634e+05\n",
       "6              660       519  7.006960e+05\n",
       "7              143       869  2.718260e+05\n",
       "8               89       461  8.919803e+04\n",
       "9              294       776  4.770210e+05\n",
       "10             991       117  2.441771e+05\n",
       "11             307       781  5.006455e+05\n",
       "12             206        70  3.145200e+04\n",
       "13             437       599  5.390215e+05\n",
       "14             566        75  9.185271e+04"
      ]
     },
     "execution_count": 39,
     "metadata": {},
     "output_type": "execute_result"
    }
   ],
   "source": [
    "# Using pandas load the dataset (load remotely, not locally)\n",
    "# Output the first 15 rows of the data\n",
    "# Display a summary of the table information (number of datapoints, etc.)\n",
    "import numpy as np\n",
    "import pandas as pd\n",
    "\n",
    "slime = pd.read_csv(\"https://raw.githubusercontent.com/profmcnich/example_notebook/main/science_data_large.csv\")\n",
    "slime.head(15)"
   ]
  },
  {
   "cell_type": "code",
   "execution_count": 40,
   "metadata": {},
   "outputs": [
    {
     "data": {
      "text/html": [
       "<div>\n",
       "<style scoped>\n",
       "    .dataframe tbody tr th:only-of-type {\n",
       "        vertical-align: middle;\n",
       "    }\n",
       "\n",
       "    .dataframe tbody tr th {\n",
       "        vertical-align: top;\n",
       "    }\n",
       "\n",
       "    .dataframe thead th {\n",
       "        text-align: right;\n",
       "    }\n",
       "</style>\n",
       "<table border=\"1\" class=\"dataframe\">\n",
       "  <thead>\n",
       "    <tr style=\"text-align: right;\">\n",
       "      <th></th>\n",
       "      <th>Temperature °C</th>\n",
       "      <th>Mols KCL</th>\n",
       "      <th>Size nm^3</th>\n",
       "    </tr>\n",
       "  </thead>\n",
       "  <tbody>\n",
       "    <tr>\n",
       "      <th>0</th>\n",
       "      <td>469</td>\n",
       "      <td>647</td>\n",
       "      <td>6.244743e+05</td>\n",
       "    </tr>\n",
       "    <tr>\n",
       "      <th>1</th>\n",
       "      <td>403</td>\n",
       "      <td>694</td>\n",
       "      <td>5.779610e+05</td>\n",
       "    </tr>\n",
       "    <tr>\n",
       "      <th>2</th>\n",
       "      <td>302</td>\n",
       "      <td>975</td>\n",
       "      <td>6.196847e+05</td>\n",
       "    </tr>\n",
       "    <tr>\n",
       "      <th>3</th>\n",
       "      <td>779</td>\n",
       "      <td>916</td>\n",
       "      <td>1.460449e+06</td>\n",
       "    </tr>\n",
       "    <tr>\n",
       "      <th>4</th>\n",
       "      <td>901</td>\n",
       "      <td>18</td>\n",
       "      <td>4.325726e+04</td>\n",
       "    </tr>\n",
       "    <tr>\n",
       "      <th>...</th>\n",
       "      <td>...</td>\n",
       "      <td>...</td>\n",
       "      <td>...</td>\n",
       "    </tr>\n",
       "    <tr>\n",
       "      <th>995</th>\n",
       "      <td>894</td>\n",
       "      <td>847</td>\n",
       "      <td>1.545661e+06</td>\n",
       "    </tr>\n",
       "    <tr>\n",
       "      <th>996</th>\n",
       "      <td>327</td>\n",
       "      <td>982</td>\n",
       "      <td>6.737041e+05</td>\n",
       "    </tr>\n",
       "    <tr>\n",
       "      <th>997</th>\n",
       "      <td>791</td>\n",
       "      <td>213</td>\n",
       "      <td>3.477543e+05</td>\n",
       "    </tr>\n",
       "    <tr>\n",
       "      <th>998</th>\n",
       "      <td>769</td>\n",
       "      <td>553</td>\n",
       "      <td>8.684794e+05</td>\n",
       "    </tr>\n",
       "    <tr>\n",
       "      <th>999</th>\n",
       "      <td>919</td>\n",
       "      <td>452</td>\n",
       "      <td>8.476413e+05</td>\n",
       "    </tr>\n",
       "  </tbody>\n",
       "</table>\n",
       "<p>1000 rows × 3 columns</p>\n",
       "</div>"
      ],
      "text/plain": [
       "     Temperature °C  Mols KCL     Size nm^3\n",
       "0               469       647  6.244743e+05\n",
       "1               403       694  5.779610e+05\n",
       "2               302       975  6.196847e+05\n",
       "3               779       916  1.460449e+06\n",
       "4               901        18  4.325726e+04\n",
       "..              ...       ...           ...\n",
       "995             894       847  1.545661e+06\n",
       "996             327       982  6.737041e+05\n",
       "997             791       213  3.477543e+05\n",
       "998             769       553  8.684794e+05\n",
       "999             919       452  8.476413e+05\n",
       "\n",
       "[1000 rows x 3 columns]"
      ]
     },
     "execution_count": 40,
     "metadata": {},
     "output_type": "execute_result"
    }
   ],
   "source": [
    "slime"
   ]
  },
  {
   "cell_type": "code",
   "execution_count": 41,
   "metadata": {},
   "outputs": [
    {
     "name": "stdout",
     "output_type": "stream",
     "text": [
      "<class 'pandas.core.frame.DataFrame'>\n",
      "RangeIndex: 1000 entries, 0 to 999\n",
      "Data columns (total 3 columns):\n",
      " #   Column          Non-Null Count  Dtype  \n",
      "---  ------          --------------  -----  \n",
      " 0   Temperature °C  1000 non-null   int64  \n",
      " 1   Mols KCL        1000 non-null   int64  \n",
      " 2   Size nm^3       1000 non-null   float64\n",
      "dtypes: float64(1), int64(2)\n",
      "memory usage: 23.6 KB\n"
     ]
    }
   ],
   "source": [
    "slime.info()"
   ]
  },
  {
   "cell_type": "markdown",
   "metadata": {},
   "source": [
    "## Part 2. Splitting the dataset"
   ]
  },
  {
   "cell_type": "code",
   "execution_count": 42,
   "metadata": {},
   "outputs": [
    {
     "data": {
      "text/html": [
       "<div>\n",
       "<style scoped>\n",
       "    .dataframe tbody tr th:only-of-type {\n",
       "        vertical-align: middle;\n",
       "    }\n",
       "\n",
       "    .dataframe tbody tr th {\n",
       "        vertical-align: top;\n",
       "    }\n",
       "\n",
       "    .dataframe thead th {\n",
       "        text-align: right;\n",
       "    }\n",
       "</style>\n",
       "<table border=\"1\" class=\"dataframe\">\n",
       "  <thead>\n",
       "    <tr style=\"text-align: right;\">\n",
       "      <th></th>\n",
       "      <th>Temperature °C</th>\n",
       "      <th>Mols KCL</th>\n",
       "    </tr>\n",
       "  </thead>\n",
       "  <tbody>\n",
       "    <tr>\n",
       "      <th>0</th>\n",
       "      <td>469</td>\n",
       "      <td>647</td>\n",
       "    </tr>\n",
       "    <tr>\n",
       "      <th>1</th>\n",
       "      <td>403</td>\n",
       "      <td>694</td>\n",
       "    </tr>\n",
       "    <tr>\n",
       "      <th>2</th>\n",
       "      <td>302</td>\n",
       "      <td>975</td>\n",
       "    </tr>\n",
       "    <tr>\n",
       "      <th>3</th>\n",
       "      <td>779</td>\n",
       "      <td>916</td>\n",
       "    </tr>\n",
       "    <tr>\n",
       "      <th>4</th>\n",
       "      <td>901</td>\n",
       "      <td>18</td>\n",
       "    </tr>\n",
       "    <tr>\n",
       "      <th>...</th>\n",
       "      <td>...</td>\n",
       "      <td>...</td>\n",
       "    </tr>\n",
       "    <tr>\n",
       "      <th>995</th>\n",
       "      <td>894</td>\n",
       "      <td>847</td>\n",
       "    </tr>\n",
       "    <tr>\n",
       "      <th>996</th>\n",
       "      <td>327</td>\n",
       "      <td>982</td>\n",
       "    </tr>\n",
       "    <tr>\n",
       "      <th>997</th>\n",
       "      <td>791</td>\n",
       "      <td>213</td>\n",
       "    </tr>\n",
       "    <tr>\n",
       "      <th>998</th>\n",
       "      <td>769</td>\n",
       "      <td>553</td>\n",
       "    </tr>\n",
       "    <tr>\n",
       "      <th>999</th>\n",
       "      <td>919</td>\n",
       "      <td>452</td>\n",
       "    </tr>\n",
       "  </tbody>\n",
       "</table>\n",
       "<p>1000 rows × 2 columns</p>\n",
       "</div>"
      ],
      "text/plain": [
       "     Temperature °C  Mols KCL\n",
       "0               469       647\n",
       "1               403       694\n",
       "2               302       975\n",
       "3               779       916\n",
       "4               901        18\n",
       "..              ...       ...\n",
       "995             894       847\n",
       "996             327       982\n",
       "997             791       213\n",
       "998             769       553\n",
       "999             919       452\n",
       "\n",
       "[1000 rows x 2 columns]"
      ]
     },
     "execution_count": 42,
     "metadata": {},
     "output_type": "execute_result"
    }
   ],
   "source": [
    "# Take the pandas dataset and split it into our features (X) and label (y)\n",
    "\n",
    "# Use sklearn to split the features and labels into a training/test set. (90% train, 10% test)\n",
    "\n",
    "features = slime[[\"Temperature °C\", \"Mols KCL\"]]\n",
    "features"
   ]
  },
  {
   "cell_type": "code",
   "execution_count": 43,
   "metadata": {},
   "outputs": [
    {
     "data": {
      "text/html": [
       "<div>\n",
       "<style scoped>\n",
       "    .dataframe tbody tr th:only-of-type {\n",
       "        vertical-align: middle;\n",
       "    }\n",
       "\n",
       "    .dataframe tbody tr th {\n",
       "        vertical-align: top;\n",
       "    }\n",
       "\n",
       "    .dataframe thead th {\n",
       "        text-align: right;\n",
       "    }\n",
       "</style>\n",
       "<table border=\"1\" class=\"dataframe\">\n",
       "  <thead>\n",
       "    <tr style=\"text-align: right;\">\n",
       "      <th></th>\n",
       "      <th>Size nm^3</th>\n",
       "    </tr>\n",
       "  </thead>\n",
       "  <tbody>\n",
       "    <tr>\n",
       "      <th>0</th>\n",
       "      <td>6.244743e+05</td>\n",
       "    </tr>\n",
       "    <tr>\n",
       "      <th>1</th>\n",
       "      <td>5.779610e+05</td>\n",
       "    </tr>\n",
       "    <tr>\n",
       "      <th>2</th>\n",
       "      <td>6.196847e+05</td>\n",
       "    </tr>\n",
       "    <tr>\n",
       "      <th>3</th>\n",
       "      <td>1.460449e+06</td>\n",
       "    </tr>\n",
       "    <tr>\n",
       "      <th>4</th>\n",
       "      <td>4.325726e+04</td>\n",
       "    </tr>\n",
       "    <tr>\n",
       "      <th>...</th>\n",
       "      <td>...</td>\n",
       "    </tr>\n",
       "    <tr>\n",
       "      <th>995</th>\n",
       "      <td>1.545661e+06</td>\n",
       "    </tr>\n",
       "    <tr>\n",
       "      <th>996</th>\n",
       "      <td>6.737041e+05</td>\n",
       "    </tr>\n",
       "    <tr>\n",
       "      <th>997</th>\n",
       "      <td>3.477543e+05</td>\n",
       "    </tr>\n",
       "    <tr>\n",
       "      <th>998</th>\n",
       "      <td>8.684794e+05</td>\n",
       "    </tr>\n",
       "    <tr>\n",
       "      <th>999</th>\n",
       "      <td>8.476413e+05</td>\n",
       "    </tr>\n",
       "  </tbody>\n",
       "</table>\n",
       "<p>1000 rows × 1 columns</p>\n",
       "</div>"
      ],
      "text/plain": [
       "        Size nm^3\n",
       "0    6.244743e+05\n",
       "1    5.779610e+05\n",
       "2    6.196847e+05\n",
       "3    1.460449e+06\n",
       "4    4.325726e+04\n",
       "..            ...\n",
       "995  1.545661e+06\n",
       "996  6.737041e+05\n",
       "997  3.477543e+05\n",
       "998  8.684794e+05\n",
       "999  8.476413e+05\n",
       "\n",
       "[1000 rows x 1 columns]"
      ]
     },
     "execution_count": 43,
     "metadata": {},
     "output_type": "execute_result"
    }
   ],
   "source": [
    "label = slime[['Size nm^3']]\n",
    "label"
   ]
  },
  {
   "cell_type": "code",
   "execution_count": 44,
   "metadata": {},
   "outputs": [],
   "source": [
    "from sklearn.model_selection import train_test_split\n",
    "\n",
    "X_train, X_test, y_train, y_test = train_test_split(features, label, test_size = 0.1)"
   ]
  },
  {
   "cell_type": "markdown",
   "metadata": {},
   "source": [
    "## Part 3. Perform a Linear Regression"
   ]
  },
  {
   "cell_type": "code",
   "execution_count": 45,
   "metadata": {
    "scrolled": true
   },
   "outputs": [
    {
     "data": {
      "text/plain": [
       "array([[1062691.21777251],\n",
       "       [ 937924.84806223],\n",
       "       [ 335145.06334462],\n",
       "       [ 647607.29933025],\n",
       "       [ 295245.86826049],\n",
       "       [-208422.53539193],\n",
       "       [ 577269.42299283],\n",
       "       [ 743810.4513314 ],\n",
       "       [ 549431.6458775 ],\n",
       "       [ 989530.30324702],\n",
       "       [ 912562.87894221],\n",
       "       [1011661.50455618],\n",
       "       [ 638763.8937211 ],\n",
       "       [1054766.77600525],\n",
       "       [1116877.62446192],\n",
       "       [ 252862.84854242],\n",
       "       [ 165936.34267567],\n",
       "       [1213686.76814655],\n",
       "       [ 329793.64540659],\n",
       "       [ 471896.40727963],\n",
       "       [1346588.59713599],\n",
       "       [ 116865.64496646],\n",
       "       [ 776622.16647699],\n",
       "       [   4272.94495318],\n",
       "       [   8671.96047149],\n",
       "       [ 130725.99377211],\n",
       "       [ 166844.18997936],\n",
       "       [ 354626.0665872 ],\n",
       "       [1287432.99122891],\n",
       "       [-230565.6726958 ],\n",
       "       [ 829210.36275976],\n",
       "       [1277722.37407601],\n",
       "       [ 739031.58649902],\n",
       "       [1000519.05042927],\n",
       "       [ 565497.92464953],\n",
       "       [ 710868.08177406],\n",
       "       [  69810.45387511],\n",
       "       [ 779037.47504225],\n",
       "       [-134578.36598238],\n",
       "       [ 206431.23236159],\n",
       "       [ 578436.12075049],\n",
       "       [ 559727.57158727],\n",
       "       [ 106810.98648361],\n",
       "       [ 679707.14878977],\n",
       "       [ 630810.02169532],\n",
       "       [ 916914.88097497],\n",
       "       [ 806352.08194378],\n",
       "       [ 738838.06325093],\n",
       "       [ 832450.69715903],\n",
       "       [ 913665.79944379],\n",
       "       [ 582408.27346917],\n",
       "       [ 833382.41645214],\n",
       "       [  72193.14331905],\n",
       "       [ 323246.09945238],\n",
       "       [ 354846.65068752],\n",
       "       [ 655247.46870435],\n",
       "       [ 848419.76009715],\n",
       "       [ 864872.99640214],\n",
       "       [1241200.45656527],\n",
       "       [1104065.25499689],\n",
       "       [ 605855.7821981 ],\n",
       "       [ 542075.83785981],\n",
       "       [ 457293.85410964],\n",
       "       [ 338090.73930581],\n",
       "       [ 806368.84571431],\n",
       "       [  78117.11436273],\n",
       "       [-280194.61810966],\n",
       "       [ 263312.48119685],\n",
       "       [-177117.4620514 ],\n",
       "       [-391783.89389834],\n",
       "       [ 196572.46653314],\n",
       "       [ 263719.39136314],\n",
       "       [ 573950.27544319],\n",
       "       [ 117432.63980301],\n",
       "       [ 190451.78337855],\n",
       "       [-101201.20595002],\n",
       "       [  65957.75006674],\n",
       "       [ 348586.56598928],\n",
       "       [  47649.00285092],\n",
       "       [ 646505.19828519],\n",
       "       [ 548243.53449995],\n",
       "       [ 428016.31234491],\n",
       "       [ 638295.66466825],\n",
       "       [ 117493.95868957],\n",
       "       [ 853335.56810365],\n",
       "       [ 890606.88716083],\n",
       "       [ 637238.93819572],\n",
       "       [ 434688.04602202],\n",
       "       [ 726332.28821869],\n",
       "       [  69897.2836641 ],\n",
       "       [ 206943.28603719],\n",
       "       [ 505871.63132007],\n",
       "       [ 390240.95625075],\n",
       "       [ 956536.18139154],\n",
       "       [ 886701.61159781],\n",
       "       [ 485292.53535174],\n",
       "       [  72327.71708688],\n",
       "       [-346624.03002126],\n",
       "       [ -52234.01283711],\n",
       "       [ 513348.5271611 ]])"
      ]
     },
     "execution_count": 45,
     "metadata": {},
     "output_type": "execute_result"
    }
   ],
   "source": [
    "# Use sklearn to train a model on the training set\n",
    "\n",
    "# Create a sample datapoint and predict the output of that sample with the trained model\n",
    "\n",
    "# Report on the score for that model, in your own words (markdown, not code) explain what the score means\n",
    "\n",
    "# Extract the coefficents and intercept from the model and write an equation for your h(x) using LaTeX\n",
    "from sklearn.linear_model import LinearRegression\n",
    "\n",
    "reg = LinearRegression().fit(X_train, y_train)\n",
    "reg.predict(X_test)"
   ]
  },
  {
   "cell_type": "code",
   "execution_count": 46,
   "metadata": {
    "scrolled": true
   },
   "outputs": [
    {
     "data": {
      "text/plain": [
       "322    1.231433e+06\n",
       "156    9.799923e+05\n",
       "858    2.388269e+05\n",
       "750    4.492695e+05\n",
       "855    2.691125e+05\n",
       "           ...     \n",
       "887    4.542493e+05\n",
       "657    1.084296e+05\n",
       "985    1.968257e+03\n",
       "549    7.614640e+04\n",
       "950    4.812353e+05\n",
       "Name: Size nm^3, Length: 100, dtype: float64"
      ]
     },
     "execution_count": 46,
     "metadata": {},
     "output_type": "execute_result"
    }
   ],
   "source": [
    "y_test['Size nm^3']"
   ]
  },
  {
   "cell_type": "code",
   "execution_count": 47,
   "metadata": {},
   "outputs": [
    {
     "data": {
      "text/plain": [
       "0.8486260122250803"
      ]
     },
     "execution_count": 47,
     "metadata": {},
     "output_type": "execute_result"
    }
   ],
   "source": [
    "reg.score(X_test, y_test)"
   ]
  },
  {
   "cell_type": "markdown",
   "metadata": {},
   "source": [
    "With a score of 0.85, my models predicates roughly around 85% correct.   "
   ]
  },
  {
   "cell_type": "code",
   "execution_count": 48,
   "metadata": {},
   "outputs": [
    {
     "data": {
      "text/plain": [
       "array([[ 873.58926935, 1036.04334591]])"
      ]
     },
     "execution_count": 48,
     "metadata": {},
     "output_type": "execute_result"
    }
   ],
   "source": [
    "reg.coef_"
   ]
  },
  {
   "cell_type": "code",
   "execution_count": 49,
   "metadata": {},
   "outputs": [
    {
     "data": {
      "text/plain": [
       "array([-415511.75566436])"
      ]
     },
     "execution_count": 49,
     "metadata": {},
     "output_type": "execute_result"
    }
   ],
   "source": [
    "reg.intercept_"
   ]
  },
  {
   "cell_type": "markdown",
   "metadata": {},
   "source": [
    "$h(892.49515243) = 1021.40888104 = 870.76520877m - 406308.82181339\\\\\n",
    "m = 467.78\\\\\n",
    "h(x) = 467.78x - 406308.82181339$"
   ]
  },
  {
   "cell_type": "markdown",
   "metadata": {},
   "source": [
    "## Part 4. Use Cross Validation"
   ]
  },
  {
   "cell_type": "code",
   "execution_count": 50,
   "metadata": {},
   "outputs": [
    {
     "name": "stderr",
     "output_type": "stream",
     "text": [
      "C:\\Users\\kenne\\Anaconda3\\lib\\site-packages\\sklearn\\model_selection\\_split.py:442: DeprecationWarning: `np.int` is a deprecated alias for the builtin `int`. To silence this warning, use `int` by itself. Doing this will not modify any behavior and is safe. When replacing `np.int`, you may wish to use e.g. `np.int64` or `np.int32` to specify the precision. If you wish to review your current use, check the release note link for additional information.\n",
      "Deprecated in NumPy 1.20; for more details and guidance: https://numpy.org/devdocs/release/1.20.0-notes.html#deprecations\n",
      "  fold_sizes = np.full(n_splits, n_samples // n_splits, dtype=np.int)\n",
      "C:\\Users\\kenne\\Anaconda3\\lib\\site-packages\\sklearn\\model_selection\\_split.py:102: DeprecationWarning: `np.bool` is a deprecated alias for the builtin `bool`. To silence this warning, use `bool` by itself. Doing this will not modify any behavior and is safe. If you specifically wanted the numpy scalar type, use `np.bool_` here.\n",
      "Deprecated in NumPy 1.20; for more details and guidance: https://numpy.org/devdocs/release/1.20.0-notes.html#deprecations\n",
      "  test_mask = np.zeros(_num_samples(X), dtype=np.bool)\n",
      "C:\\Users\\kenne\\Anaconda3\\lib\\site-packages\\sklearn\\model_selection\\_split.py:102: DeprecationWarning: `np.bool` is a deprecated alias for the builtin `bool`. To silence this warning, use `bool` by itself. Doing this will not modify any behavior and is safe. If you specifically wanted the numpy scalar type, use `np.bool_` here.\n",
      "Deprecated in NumPy 1.20; for more details and guidance: https://numpy.org/devdocs/release/1.20.0-notes.html#deprecations\n",
      "  test_mask = np.zeros(_num_samples(X), dtype=np.bool)\n",
      "C:\\Users\\kenne\\Anaconda3\\lib\\site-packages\\sklearn\\model_selection\\_split.py:102: DeprecationWarning: `np.bool` is a deprecated alias for the builtin `bool`. To silence this warning, use `bool` by itself. Doing this will not modify any behavior and is safe. If you specifically wanted the numpy scalar type, use `np.bool_` here.\n",
      "Deprecated in NumPy 1.20; for more details and guidance: https://numpy.org/devdocs/release/1.20.0-notes.html#deprecations\n",
      "  test_mask = np.zeros(_num_samples(X), dtype=np.bool)\n"
     ]
    },
    {
     "data": {
      "text/plain": [
       "array([0.86454692, 0.85788336, 0.86152388])"
      ]
     },
     "execution_count": 50,
     "metadata": {},
     "output_type": "execute_result"
    }
   ],
   "source": [
    "# Use the cross_val_score function to repeat your experiment across many shuffles of the data\n",
    "\n",
    "# Report on their finding and their significance\n",
    "from sklearn.model_selection import cross_val_score\n",
    "\n",
    "cross_val_score(LinearRegression(), X_train, y_train, cv=3)"
   ]
  },
  {
   "cell_type": "markdown",
   "metadata": {},
   "source": [
    "When doing cross_val_score with 3-folds, it has returned an average of 0.85939 and a standard deviation of 0.00097921.\n",
    "Cross-validating shows that it can increase the accuracy of the model."
   ]
  },
  {
   "cell_type": "markdown",
   "metadata": {},
   "source": [
    "## Part 5. Using Polynomial Regression"
   ]
  },
  {
   "cell_type": "code",
   "execution_count": 68,
   "metadata": {},
   "outputs": [
    {
     "data": {
      "text/plain": [
       "array([[1.00000e+00, 3.89000e+02, 5.70000e+02, 1.51321e+05, 2.21730e+05,\n",
       "        3.24900e+05],\n",
       "       [1.00000e+00, 9.54000e+02, 8.55000e+02, 9.10116e+05, 8.15670e+05,\n",
       "        7.31025e+05],\n",
       "       [1.00000e+00, 8.36000e+02, 5.73000e+02, 6.98896e+05, 4.79028e+05,\n",
       "        3.28329e+05],\n",
       "       ...,\n",
       "       [1.00000e+00, 4.15000e+02, 4.60000e+01, 1.72225e+05, 1.90900e+04,\n",
       "        2.11600e+03],\n",
       "       [1.00000e+00, 1.61000e+02, 6.22000e+02, 2.59210e+04, 1.00142e+05,\n",
       "        3.86884e+05],\n",
       "       [1.00000e+00, 8.83000e+02, 8.52000e+02, 7.79689e+05, 7.52316e+05,\n",
       "        7.25904e+05]])"
      ]
     },
     "execution_count": 68,
     "metadata": {},
     "output_type": "execute_result"
    }
   ],
   "source": [
    "# Using the PolynomialFeatures library perform another regression on an augmented dataset of degree 2\n",
    "\n",
    "# Report on the metrics and output the resultant equation as you did in Part 3.\n",
    "from sklearn.preprocessing import PolynomialFeatures\n",
    "from sklearn import linear_model\n",
    "\n",
    "poly = PolynomialFeatures(2)\n",
    "poly.fit_transform(X_train)\n",
    "# Ask the professor if he wants me to pass slime from the wording \"augmented dataset\" \n",
    "# or X_train only as stated in 1.1 Linear Models documentation"
   ]
  },
  {
   "cell_type": "code",
   "execution_count": 69,
   "metadata": {},
   "outputs": [
    {
     "data": {
      "text/plain": [
       "Lasso(alpha=1.0, copy_X=True, fit_intercept=True, max_iter=1000,\n",
       "      normalize=False, positive=False, precompute=False, random_state=None,\n",
       "      selection='cyclic', tol=0.0001, warm_start=False)"
      ]
     },
     "execution_count": 69,
     "metadata": {},
     "output_type": "execute_result"
    }
   ],
   "source": [
    "poly_reg = PolynomialFeatures(degree = 2)\n",
    "X_poly = poly_reg.fit_transform(features)\n",
    "pol_reg = linear_model.Lasso()\n",
    "pol_reg.fit(X_poly, label)"
   ]
  },
  {
   "cell_type": "code",
   "execution_count": 70,
   "metadata": {
    "scrolled": true
   },
   "outputs": [
    {
     "data": {
      "text/plain": [
       "array([6.24472861e+05, 5.77959865e+05, 6.19685117e+05, 1.46044977e+06,\n",
       "       4.32581521e+04, 7.12461966e+05, 7.00694621e+05, 2.71826870e+05,\n",
       "       8.91988402e+04, 4.77020519e+05, 2.44178356e+05, 5.00644903e+05,\n",
       "       3.14532190e+04, 5.39020025e+05, 9.18521588e+04, 3.95304059e+04,\n",
       "       5.38420799e+05, 1.14869414e+04, 1.48585679e+05, 4.16308666e+05,\n",
       "       1.31597213e+05, 4.82432057e+05, 1.16136525e+06, 1.36056202e+04,\n",
       "       4.24488813e+05, 1.97796626e+04, 8.03034669e+05, 3.21294584e+05,\n",
       "       6.95232434e+05, 2.23962008e+05, 1.10432873e+06, 1.92627575e+06,\n",
       "       5.21372525e+05, 7.91713972e+05, 4.53953292e+05, 5.11926884e+04,\n",
       "       5.94763853e+04, 4.40629458e+05, 4.60782315e+05, 7.88617539e+04,\n",
       "       8.03209342e+05, 2.28364362e+05, 2.41598541e+05, 1.04577978e+06,\n",
       "       6.59940915e+04, 6.18551695e+04, 3.97634917e+05, 4.93008199e+05,\n",
       "       1.18456760e+05, 2.42666300e+05, 1.26719053e+06, 1.28495716e+05,\n",
       "       6.10293654e+05, 5.76107658e+04, 9.13728401e+05, 1.41796392e+06,\n",
       "       5.31813144e+04, 4.93775942e+04, 6.40080292e+05, 9.38430569e+05,\n",
       "       5.05692168e+03, 7.31991990e+05, 3.75478864e+04, 9.73750365e+05,\n",
       "       3.45933025e+05, 8.23035088e+05, 3.42180974e+05, 7.12975638e+05,\n",
       "       3.78129897e+05, 1.94913189e+05, 6.80136480e+05, 1.09724604e+06,\n",
       "       3.43391735e+05, 8.08595158e+05, 5.49033499e+05, 2.57202281e+05,\n",
       "       2.56620908e+05, 4.01611150e+05, 9.09837481e+04, 6.54134391e+05,\n",
       "       3.68869141e+04, 4.30491623e+05, 1.73630330e+06, 2.71049366e+05,\n",
       "       7.81566194e+05, 4.76348025e+05, 1.13658727e+06, 6.09381771e+04,\n",
       "       8.68431558e+05, 5.37426216e+05, 2.24346591e+05, 2.25829755e+05,\n",
       "       2.64799033e+05, 1.44586003e+06, 3.05201289e+05, 1.01626961e+05,\n",
       "       8.28359885e+04, 6.35771341e+04, 5.89426390e+05, 2.63447024e+05,\n",
       "       6.09297793e+05, 3.30255802e+05, 5.05467780e+05, 3.35936625e+05,\n",
       "       1.47318838e+06, 2.39418502e+05, 4.04336273e+04, 1.04920874e+06,\n",
       "       2.82795559e+05, 1.61115682e+05, 5.48259516e+04, 3.38068338e+05,\n",
       "       2.74971619e+05, 9.57962112e+04, 1.67575486e+05, 1.25454668e+04,\n",
       "       4.56082267e+05, 3.75530611e+05, 3.76200747e+05, 4.32736501e+04,\n",
       "       7.07869335e+01, 2.99087761e+05, 7.42451671e+05, 2.88918232e+05,\n",
       "       1.43055455e+04, 1.15681696e+04, 1.24286472e+06, 1.22952891e+05,\n",
       "       1.80516664e+05, 6.73721748e+04, 1.54240415e+05, 1.24615432e+06,\n",
       "       1.12075733e+06, 1.22228696e+06, 1.15344687e+06, 5.65979160e+05,\n",
       "       3.58128858e+05, 1.54538959e+06, 1.30044371e+05, 1.16390794e+05,\n",
       "       3.55521370e+05, 7.18006663e+05, 2.60681095e+04, 6.78208223e+04,\n",
       "       3.57344894e+05, 6.34282916e+05, 8.47612602e+05, 1.93128385e+05,\n",
       "       4.14204953e+02, 9.88128565e+05, 8.94888157e+05, 2.22812248e+04,\n",
       "       3.62577373e+05, 5.55001883e+05, 1.47449792e+06, 2.40201404e+05,\n",
       "       9.79992718e+05, 3.45308319e+04, 3.28047679e+05, 1.17746066e+06,\n",
       "       1.94852246e+05, 9.10304046e+05, 5.47971887e+05, 5.07558535e+05,\n",
       "       1.00447401e+06, 2.40833473e+05, 1.09235681e+06, 1.00324747e+05,\n",
       "       1.27688109e+04, 5.45185887e+05, 2.71139600e+04, 1.74753668e+05,\n",
       "       9.25795430e+03, 1.30503147e+06, 3.34177617e+02, 3.83616874e+05,\n",
       "       2.20721882e+05, 3.09564769e+05, 7.23398864e+05, 6.13644461e+05,\n",
       "       6.30813125e+05, 1.49946212e+05, 1.21227792e+05, 7.04409531e+05,\n",
       "       5.56873000e+05, 1.77453373e+02, 6.77848242e+05, 8.08564292e+05,\n",
       "       6.25305945e+05, 5.55543728e+05, 1.07782463e+06, 5.02016176e+05,\n",
       "       4.95718539e+05, 8.05820596e+05, 3.39906281e+05, 1.53670890e+06,\n",
       "       1.30304127e+06, 9.56985454e+03, 9.72527264e+05, 1.90277247e+05,\n",
       "       5.83887610e+05, 3.79511731e+05, 8.51570716e+05, 6.08829754e+05,\n",
       "       2.29699093e+04, 3.21060310e+04, 1.92619265e+04, 8.71484779e+05,\n",
       "       8.62470499e+05, 4.03843474e+05, 3.04431366e+05, 9.62504259e+04,\n",
       "       7.18648224e+05, 1.04813628e+06, 7.30238744e+05, 1.33772167e+06,\n",
       "       7.48714026e+05, 9.23178954e+04, 1.89237804e+05, 1.49315137e+05,\n",
       "       8.69366460e+05, 1.18923521e+05, 6.54214941e+04, 4.70628793e+05,\n",
       "       2.08776918e+05, 1.22337146e+06, 6.68113292e+03, 5.40959665e+02,\n",
       "       9.77468440e+05, 6.65809702e+03, 6.89013539e+04, 1.07378403e+06,\n",
       "       1.88057169e+05, 5.17376312e+05, 1.81698159e+05, 1.23172128e+05,\n",
       "       7.58931733e+05, 1.93084258e+05, 1.09442355e+02, 4.80159496e+04,\n",
       "       7.15662647e+05, 3.01394687e+04, 1.69837336e+05, 2.37079848e+05,\n",
       "       5.34514172e+05, 5.01711024e+05, 1.61846344e+06, 3.35550139e+05,\n",
       "       2.84965323e+05, 2.70368554e+05, 6.71114245e+05, 2.63858824e+05,\n",
       "       3.00269770e+05, 6.81054346e+04, 3.16187147e+05, 9.35718791e+04,\n",
       "       5.05025801e+05, 1.06647513e+06, 1.50911326e+06, 8.59933233e+05,\n",
       "       1.04123752e+05, 1.24219452e+06, 1.19094831e+06, 9.58762492e+05,\n",
       "       1.10456648e+05, 3.45399755e+05, 5.62824927e+05, 1.48946367e+04,\n",
       "       1.62132835e+06, 7.00323073e+05, 3.35543847e+05, 9.97618501e+05,\n",
       "       1.38734754e+06, 1.36744066e+06, 1.08651171e+06, 1.10411379e+06,\n",
       "       1.03501972e+05, 1.01254660e+06, 3.16843362e+05, 6.00682830e+04,\n",
       "       7.11804669e+04, 6.52804327e+05, 9.24036749e+04, 8.80351256e+05,\n",
       "       2.49042210e+05, 2.84116529e+05, 4.58032354e+05, 1.49123540e+06,\n",
       "       1.06489718e+06, 7.32261011e+05, 6.19213677e+03, 1.71063750e+05,\n",
       "       6.51545490e+04, 1.81536582e+06, 1.38011426e+06, 1.93810570e+04,\n",
       "       9.71625046e+05, 1.60322286e+06, 1.57789320e+06, 4.08677148e+05,\n",
       "       3.90115894e+05, 1.07915900e+05, 2.68272336e+04, 9.16377607e+04,\n",
       "       1.66463815e+04, 1.03615258e+06, 5.21555609e+04, 3.03944228e+05,\n",
       "       2.46097935e+04, 1.06949036e+06, 2.29205166e+05, 1.88886719e+06,\n",
       "       9.65613056e+05, 4.12820697e+05, 5.09654696e+03, 8.46168846e+05,\n",
       "       8.21322326e+04, 2.06992981e+05, 1.50486510e+04, 1.48666080e+06,\n",
       "       5.06369720e+05, 3.19122150e+05, 1.23143291e+06, 2.94994851e+05,\n",
       "       1.11379593e+06, 1.26995515e+06, 5.10751654e+05, 6.39440985e+05,\n",
       "       2.24846510e+05, 1.30380763e+06, 7.27813531e+02, 1.00190754e+06,\n",
       "       2.33312317e+05, 1.34437844e+05, 1.17146813e+06, 2.11805240e+05,\n",
       "       9.54587756e+05, 8.14964512e+03, 4.17029350e+05, 3.50058120e+05,\n",
       "       4.99506515e+05, 7.13456091e+05, 1.27368042e+03, 8.54445164e+04,\n",
       "       1.46566532e+06, 1.74367526e+06, 3.50798647e+05, 1.11477849e+06,\n",
       "       2.20367550e+05, 7.34311949e+05, 1.10090889e+06, 1.93752583e+05,\n",
       "       1.33336583e+05, 1.24416167e+05, 6.14609304e+05, 6.58197076e+05,\n",
       "       9.77113798e+05, 8.04759556e+04, 1.01789914e+06, 1.77320549e+06,\n",
       "       2.64661574e+05, 2.50464223e+05, 6.23113943e+05, 4.92523166e+05,\n",
       "       5.47486577e+05, 1.37049333e+05, 1.34657409e+06, 3.11880962e+05,\n",
       "       5.44499039e+05, 3.79736096e+05, 3.89292965e+05, 1.44062035e+06,\n",
       "       2.16979904e+05, 2.87067744e+05, 4.39601227e+05, 1.88437465e+05,\n",
       "       1.29384704e+06, 4.68481584e+04, 1.86544833e+04, 1.04374967e+06,\n",
       "       4.12281771e+05, 9.38628195e+05, 1.24874196e+06, 2.40675467e+05,\n",
       "       2.51268815e+05, 1.86264651e+05, 3.74083154e+05, 5.94963836e+04,\n",
       "       6.72127791e+05, 6.31224841e+05, 1.60506745e+05, 9.85604255e+05,\n",
       "       8.41912555e+05, 2.56360789e+04, 3.22736499e+03, 1.53176817e+04,\n",
       "       5.45395190e+04, 1.90750598e+05, 1.92261254e+04, 1.07481024e+03,\n",
       "       3.54954990e+05, 3.82576138e+04, 8.20856529e+05, 6.33202331e+04,\n",
       "       5.02193526e+05, 1.03650432e+06, 2.68353606e+05, 2.39246199e+05,\n",
       "       1.88480373e+06, 1.99936623e+04, 6.16365297e+05, 9.53684310e+05,\n",
       "       9.34856248e+05, 9.97698307e+03, 5.42191791e+03, 2.78433668e+04,\n",
       "       1.18851765e+06, 2.78071346e+05, 3.98299713e+05, 1.79065571e+05,\n",
       "       9.66722490e+04, 6.16658387e+05, 8.15535653e+05, 1.25717259e+06,\n",
       "       4.11845113e+04, 1.20913265e+06, 1.26525585e+06, 1.75371361e+05,\n",
       "       1.07004924e+06, 5.47623683e+05, 7.38529660e+05, 6.79975738e+05,\n",
       "       7.78382956e+05, 4.26939038e+05, 7.78503869e+04, 4.41286132e+05,\n",
       "       6.30518741e+05, 4.98941762e+04, 4.74587069e+05, 3.19069352e+05,\n",
       "       5.78912296e+05, 7.48331625e+04, 3.21154322e+05, 2.41160807e+05,\n",
       "       8.91176119e+05, 1.86374347e+06, 4.08353033e+04, 8.97682397e+05,\n",
       "       1.19580593e+04, 2.43082831e+04, 4.42705804e+04, 1.46083286e+06,\n",
       "       8.91172058e+04, 6.16477833e+05, 4.86651761e+05, 8.74559430e+04,\n",
       "       7.56181438e+05, 3.16834714e+05, 2.54503266e+05, 7.78040944e+05,\n",
       "       2.95578801e+04, 1.57454272e+06, 4.93707683e+05, 2.86744990e+05,\n",
       "       6.11332750e+05, 4.00791910e+04, 5.86381826e+05, 3.99511439e+05,\n",
       "       5.78881517e+05, 1.52406259e+06, 1.28284325e+05, 5.17712388e+03,\n",
       "       4.57409520e+05, 2.08987401e+05, 6.98809788e+05, 4.77348601e+05,\n",
       "       1.24421341e+06, 2.39584867e+05, 1.48561553e+05, 6.76428879e+05,\n",
       "       8.49308814e+04, 5.73641622e+04, 2.16832819e+05, 3.17102744e+05,\n",
       "       9.05456264e+04, 1.78553462e+06, 7.35845586e+05, 5.83074543e+04,\n",
       "       3.43371339e+05, 1.17433558e+05, 5.85850631e+03, 5.23649204e+05,\n",
       "       4.16355217e+05, 1.30850286e+05, 8.19085190e+04, 4.76392819e+05,\n",
       "       8.11163772e+05, 7.73749475e+05, 1.74310940e+06, 6.22648651e+05,\n",
       "       6.27715081e+04, 7.89596090e+05, 3.81820402e+05, 9.02260352e+05,\n",
       "       1.14387436e+06, 8.45212750e+02, 3.26932200e+04, 3.19655527e+05,\n",
       "       5.58759767e+05, 8.70964297e+03, 1.71829533e+05, 2.75384576e+05,\n",
       "       7.28266284e+05, 2.85718577e+05, 9.14373845e+05, 3.28198848e+05,\n",
       "       2.82813235e+05, 1.09041973e+06, 1.55745837e+06, 1.30431686e+05,\n",
       "       1.77936917e+05, 1.17762932e+05, 4.99695367e+05, 7.03158775e+05,\n",
       "       5.62435464e+04, 2.21392004e+05, 7.56696339e+05, 6.87855464e+05,\n",
       "       2.89044449e+05, 7.01241344e+03, 1.46307758e+06, 9.01127102e+05,\n",
       "       6.03437460e+05, 1.59128932e+05, 8.07511566e+05, 1.04957514e+05,\n",
       "       1.60969302e+05, 9.85398325e+04, 4.52398377e+05, 1.47562579e+06,\n",
       "       4.08860594e+05, 1.12033248e+04, 2.45059366e+05, 3.11875873e+05,\n",
       "       8.59434569e+05, 9.66327859e+04, 3.81269380e+05, 5.77805393e+05,\n",
       "       3.19511158e+05, 7.61470267e+04, 1.54601093e+06, 1.13411216e+06,\n",
       "       8.78645265e+05, 4.55085542e+04, 2.91141402e+05, 3.96296840e+05,\n",
       "       3.60813495e+05, 1.49261235e+06, 1.56419789e+06, 1.10481478e+06,\n",
       "       5.29151649e+05, 9.07840036e+04, 8.10048288e+05, 8.59048043e+05,\n",
       "       4.33409424e+04, 2.67912550e+04, 1.76954714e+06, 2.93547315e+05,\n",
       "       4.89186642e+05, 1.38054823e+06, 3.05001517e+05, 8.14096295e+04,\n",
       "       7.91097434e+04, 1.56607676e+06, 2.32656507e+04, 7.24973705e+05,\n",
       "       7.50774554e+03, 7.39731085e+05, 1.48395612e+05, 1.12557752e+05,\n",
       "       4.70398253e+05, 2.02397010e+01, 8.63715698e+05, 4.71718060e+05,\n",
       "       4.52266470e+05, 2.52116117e+05, 1.74842357e+05, 1.15614805e+05,\n",
       "       4.62370437e+05, 8.23032472e+05, 4.94673098e+05, 1.09211977e+06,\n",
       "       5.81396644e+04, 6.25713387e+05, 8.29199179e+05, 4.17463893e+03,\n",
       "       4.22776278e+05, 3.38138564e+05, 6.74169827e+05, 2.44549534e+05,\n",
       "       3.63687858e+05, 3.60768011e+05, 1.14415683e+05, 4.29404025e+03,\n",
       "       1.40512957e+06, 2.40586616e+04, 7.38670051e+04, 4.82896937e+04,\n",
       "       9.02100028e+05, 9.31366071e+05, 6.93392778e+05, 2.89779252e+05,\n",
       "       1.60878339e+04, 1.20599224e+06, 1.97213062e+06, 2.92208739e+05,\n",
       "       1.27749412e+06, 5.25289966e+05, 3.95665358e+05, 8.91768252e+05,\n",
       "       1.05033405e+06, 3.60092242e+05, 4.54565372e+05, 2.95488838e+05,\n",
       "       7.07184234e+05, 3.86428963e+05, 2.22298290e+05, 1.28727337e+06,\n",
       "       4.68327580e+04, 2.65273960e+05, 1.99822555e+05, 4.58608328e+05,\n",
       "       7.27742839e+05, 1.08556016e+06, 2.59310864e+04, 7.50929898e+04,\n",
       "       8.23167927e+05, 1.04147291e+04, 2.49955398e+05, 8.15495987e+05,\n",
       "       3.42320295e+04, 1.42932986e+04, 1.02334632e+06, 1.34656595e+04,\n",
       "       6.80893552e+05, 3.37428348e+05, 5.75879016e+05, 1.79771271e+06,\n",
       "       7.07601510e+05, 2.83601957e+04, 1.53730595e+05, 1.08112486e+06,\n",
       "       1.02109766e+05, 7.04620512e+05, 1.60467582e+05, 3.66976780e+04,\n",
       "       9.32684024e+04, 1.08429140e+05, 9.99581609e+05, 1.20136041e+05,\n",
       "       1.71604164e+06, 7.63557583e+05, 1.02252270e+06, 7.86489792e+04,\n",
       "       5.40200807e+05, 4.17423941e+05, 2.21130257e+05, 7.90412553e+04,\n",
       "       1.42404985e+06, 4.95867007e+05, 6.16957272e+05, 4.72612908e+05,\n",
       "       3.55879351e+04, 1.25074634e+06, 1.61112608e+05, 2.44744503e+05,\n",
       "       1.61217628e+05, 1.57312266e+05, 1.15056884e+05, 2.77242825e+04,\n",
       "       2.64479912e+05, 1.29174899e+05, 7.36482887e+05, 6.46517044e+05,\n",
       "       9.98594108e+05, 1.36864544e+06, 1.19722050e+05, 4.92890968e+05,\n",
       "       6.02291358e+05, 6.24742746e+05, 7.36063719e+05, 5.54755459e+03,\n",
       "       3.34371107e+05, 3.08189267e+04, 1.10939494e+06, 7.19366144e+05,\n",
       "       4.05569691e+05, 1.27018368e+06, 3.65192164e+05, 8.38934182e+05,\n",
       "       5.29295358e+05, 4.92336876e+05, 4.07850842e+05, 8.26494861e+05,\n",
       "       8.11572068e+04, 6.36035101e+04, 9.68931929e+04, 3.76394946e+05,\n",
       "       2.34068866e+04, 2.03362886e+04, 1.11048107e+05, 7.85159750e+05,\n",
       "       6.82269798e+05, 2.31531852e+05, 3.13060490e+05, 1.15123500e+06,\n",
       "       1.03065014e+05, 2.81765455e+05, 6.82267021e+05, 1.30749949e+06,\n",
       "       3.54575457e+05, 6.21302763e+05, 7.21470569e+05, 2.50003181e+04,\n",
       "       1.71277131e+06, 1.86677457e+05, 7.51030881e+05, 1.12016687e+05,\n",
       "       4.56055300e+05, 8.37440089e+04, 7.95132487e+05, 7.59241257e+05,\n",
       "       1.03068995e+06, 5.82477449e+05, 2.71665571e+05, 1.38913452e+05,\n",
       "       6.64789426e+05, 8.68728067e+05, 1.79392944e+05, 2.00456797e+05,\n",
       "       1.08489261e+06, 5.56986361e+05, 3.08128947e+04, 1.71636002e+06,\n",
       "       1.40516521e+06, 1.37425823e+06, 8.24399405e+05, 1.15307874e+06,\n",
       "       8.27992352e+05, 1.03489743e+05, 4.49269177e+05, 1.53596931e+06,\n",
       "       1.31256900e+05, 3.77712146e+05, 2.07198221e+05, 1.02880195e+05,\n",
       "       4.21323405e+04, 4.69778542e+05, 2.86017779e+05, 1.17646394e+05,\n",
       "       3.59612713e+05, 2.17334418e+05, 1.19854329e+05, 2.10333338e+05,\n",
       "       7.67622838e+05, 2.45986879e+05, 1.81550926e+05, 1.07822411e+06,\n",
       "       1.43518343e+06, 2.29354865e+05, 2.40653443e+05, 1.55348483e+05,\n",
       "       1.79866000e+04, 3.78243915e+05, 1.97368831e+05, 5.84455531e+05,\n",
       "       8.84457270e+05, 3.44565993e+05, 7.42701007e+05, 1.10951984e+06,\n",
       "       9.26109047e+03, 3.19712661e+05, 1.01454083e+06, 2.37862656e+05,\n",
       "       9.92136030e+05, 2.52174963e+03, 2.91133001e+05, 1.23976772e+06,\n",
       "       1.43166251e+06, 1.66056534e+04, 7.23566673e+05, 7.37534704e+05,\n",
       "       8.62919182e+04, 1.05541992e+05, 1.94317776e+05, 3.48354686e+05,\n",
       "       1.15608839e+06, 2.36711530e+05, 1.39407440e+05, 1.39883763e+06,\n",
       "       6.71196318e+05, 4.99554699e+05, 8.18932340e+05, 3.62068586e+04,\n",
       "       8.86260784e+05, 6.85716356e+05, 9.47628878e+05, 1.66367637e+06,\n",
       "       5.40878469e+05, 4.48642965e+05, 7.43932679e+05, 2.43110873e+05,\n",
       "       9.40711209e+05, 3.92906811e+05, 6.34643531e+05, 6.40445200e+05,\n",
       "       3.09613127e+05, 7.58047155e+05, 1.65529897e+06, 1.41098734e+05,\n",
       "       4.55982281e+05, 6.50283392e+04, 7.49360165e+05, 4.31399168e+05,\n",
       "       3.27116476e+05, 9.20530403e+05, 4.78947124e+03, 2.61598342e+05,\n",
       "       9.84749907e+04, 3.34191930e+04, 8.64350936e+05, 2.90563568e+03,\n",
       "       1.85477507e+05, 4.03601740e+01, 8.66552898e+03, 2.36794752e+02,\n",
       "       6.98825768e+05, 8.73037319e+05, 3.92156727e+03, 3.81814985e+05,\n",
       "       1.01028529e+05, 1.65686877e+04, 1.02610832e+06, 1.53021249e+05,\n",
       "       5.77259710e+05, 2.20298347e+04, 6.16455475e+05, 3.96173128e+05,\n",
       "       6.03240294e+05, 9.84988071e+04, 1.07180341e+06, 4.91388355e+05,\n",
       "       4.55727760e+05, 1.22792785e+06, 2.36957031e+05, 2.69111189e+05,\n",
       "       2.31583773e+05, 6.03597404e+05, 2.38826509e+05, 2.87803485e+05,\n",
       "       6.00673405e+05, 9.44419884e+04, 1.35712523e+05, 3.05594068e+05,\n",
       "       2.19951812e+05, 4.35621815e+05, 3.37171728e+05, 1.85785195e+04,\n",
       "       3.25132605e+05, 7.94975526e+05, 3.13983974e+05, 1.42845152e+03,\n",
       "       3.51864680e+05, 6.51840389e+05, 3.26296331e+04, 5.60756195e+05,\n",
       "       8.38108094e+05, 3.09710934e+05, 1.27145166e+05, 1.59435697e+06,\n",
       "       5.18856037e+05, 2.98079924e+05, 4.96744664e+05, 4.10719232e+05,\n",
       "       1.66231661e+05, 9.42240445e+05, 1.01681664e+06, 4.54247692e+05,\n",
       "       5.58566913e+05, 5.97741851e+05, 1.33530839e+05, 6.72392807e+05,\n",
       "       1.03986701e+05, 5.36191151e+05, 1.51775374e+04, 4.63349154e+05,\n",
       "       2.13269889e+05, 1.64061917e+06, 1.64619457e+05, 5.49207242e+05,\n",
       "       4.76622168e+05, 5.54432998e+05, 1.07736746e+06, 8.18464244e+05,\n",
       "       3.18058015e+04, 6.70936695e+05, 5.13346589e+05, 5.20717856e+05,\n",
       "       3.68423412e+04, 2.26740243e+05, 6.72088003e+05, 2.15877452e+05,\n",
       "       5.37475428e+05, 4.13732534e+05, 7.58376607e+05, 1.07312983e+05,\n",
       "       1.43706191e+06, 3.58147911e+05, 1.60323673e+06, 3.46294907e+05,\n",
       "       1.06297900e+06, 8.96229276e+04, 6.16568357e+05, 3.87180922e+05,\n",
       "       4.80945103e+05, 9.76255138e+04, 8.28274889e+04, 4.73075349e+05,\n",
       "       9.54178532e+05, 6.61003482e+05, 1.14399991e+06, 6.12330554e+04,\n",
       "       9.29078544e+05, 1.03529262e+06, 5.02011339e+04, 1.70761848e+06,\n",
       "       2.16721591e+04, 7.74480318e+05, 3.55213239e+05, 7.38878074e+05,\n",
       "       2.51468984e+05, 2.53717690e+05, 5.21239842e+04, 2.31292072e+03,\n",
       "       4.22683585e+05, 2.00865979e+05, 3.47415107e+05, 1.50312560e+05,\n",
       "       1.72224815e+06, 1.65669355e+03, 4.81233765e+05, 1.37193669e+05,\n",
       "       4.26355954e+05, 1.32183165e+06, 6.74211684e+04, 7.26984792e+05,\n",
       "       8.26148030e+04, 1.04350487e+06, 1.48400581e+05, 4.32204275e+04,\n",
       "       3.31452340e+05, 4.73126966e+04, 1.77566835e+05, 1.16259822e+05,\n",
       "       1.24290517e+05, 2.35763518e+05, 1.21470046e+05, 1.05945027e+06,\n",
       "       2.63336602e+05, 9.81716171e+05, 2.78615281e+05, 3.17628973e+05,\n",
       "       4.59799394e+05, 1.28610723e+05, 1.14027814e+05, 1.05181482e+06,\n",
       "       6.32187338e+05, 2.40744871e+05, 9.56927263e+05, 5.98294781e+05,\n",
       "       1.64214480e+05, 1.42239876e+06, 1.96464231e+05, 7.39639923e+05,\n",
       "       1.27960050e+06, 1.97177829e+03, 7.97576825e+05, 4.15562846e+05,\n",
       "       4.46975847e+04, 1.30239872e+05, 9.08941706e+04, 1.33161527e+06,\n",
       "       4.87150770e+05, 1.70567864e+05, 3.47356579e+03, 1.54566267e+06,\n",
       "       6.73704465e+05, 3.47753679e+05, 8.68478525e+05, 8.47641371e+05])"
      ]
     },
     "execution_count": 70,
     "metadata": {},
     "output_type": "execute_result"
    }
   ],
   "source": [
    "pol_reg.predict(X_poly)"
   ]
  },
  {
   "cell_type": "code",
   "execution_count": 71,
   "metadata": {},
   "outputs": [
    {
     "data": {
      "text/plain": [
       "0.9999999999928451"
      ]
     },
     "execution_count": 71,
     "metadata": {},
     "output_type": "execute_result"
    }
   ],
   "source": [
    "pol_reg.score(X_poly, label)"
   ]
  },
  {
   "cell_type": "code",
   "execution_count": 72,
   "metadata": {},
   "outputs": [
    {
     "data": {
      "text/plain": [
       "array([ 0.00000000e+00,  1.19856472e+01, -8.11370237e-03,  1.20296592e-05,\n",
       "        2.00000303e+00,  2.85782704e-02])"
      ]
     },
     "execution_count": 72,
     "metadata": {},
     "output_type": "execute_result"
    }
   ],
   "source": [
    "pol_reg.coef_"
   ]
  },
  {
   "cell_type": "code",
   "execution_count": 73,
   "metadata": {},
   "outputs": [
    {
     "data": {
      "text/plain": [
       "array([4.1559501])"
      ]
     },
     "execution_count": 73,
     "metadata": {},
     "output_type": "execute_result"
    }
   ],
   "source": [
    "pol_reg.intercept_"
   ]
  },
  {
   "cell_type": "code",
   "execution_count": 74,
   "metadata": {},
   "outputs": [
    {
     "name": "stdout",
     "output_type": "stream",
     "text": [
      "Inliers coef:[0.000 11.986 -0.008 0.000 2.000 0.029] - b:4.16\n"
     ]
    }
   ],
   "source": [
    "reg_label = \"Inliers coef:%s - b:%0.2f\" % \\\n",
    "            (np.array2string(pol_reg.coef_,\n",
    "                             formatter={'float_kind': lambda fk: \"%.3f\" % fk}),\n",
    "            pol_reg.intercept_)\n",
    "print(reg_label)"
   ]
  },
  {
   "cell_type": "markdown",
   "metadata": {},
   "source": [
    "$y = 0 + 11.986a - 0.008b + 0a^2 + 2ab + 0.029b^2 - 4.16\\\\ $"
   ]
  }
 ],
 "metadata": {
  "kernelspec": {
   "display_name": "Python 3",
   "language": "python",
   "name": "python3"
  },
  "language_info": {
   "codemirror_mode": {
    "name": "ipython",
    "version": 3
   },
   "file_extension": ".py",
   "mimetype": "text/x-python",
   "name": "python",
   "nbconvert_exporter": "python",
   "pygments_lexer": "ipython3",
   "version": "3.7.4"
  }
 },
 "nbformat": 4,
 "nbformat_minor": 2
}
